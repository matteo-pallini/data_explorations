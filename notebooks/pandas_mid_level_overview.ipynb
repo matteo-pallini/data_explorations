{
 "cells": [
  {
   "cell_type": "code",
   "execution_count": 1,
   "id": "0b06b617",
   "metadata": {},
   "outputs": [],
   "source": [
    "import pandas as pd\n",
    "import numpy as np\n",
    "import cProfile\n",
    "import pstats\n",
    "import io\n",
    "import datetime\n",
    "import math\n",
    "import numba\n",
    "\n",
    "from IPython.display import display, HTML"
   ]
  },
  {
   "cell_type": "code",
   "execution_count": 2,
   "id": "d31e3aa8",
   "metadata": {},
   "outputs": [],
   "source": [
    "np.random.seed(17)"
   ]
  },
  {
   "cell_type": "code",
   "execution_count": 3,
   "id": "5a86a320",
   "metadata": {},
   "outputs": [],
   "source": [
    "# !pip install watermark ipython-autotime\n",
    "# !pip install line_profiler"
   ]
  },
  {
   "cell_type": "code",
   "execution_count": 4,
   "id": "b356edc2",
   "metadata": {},
   "outputs": [
    {
     "name": "stdout",
     "output_type": "stream",
     "text": [
      "time: 56.9 ms (started: 2022-05-09 17:42:51 +01:00)\n"
     ]
    }
   ],
   "source": [
    "%load_ext watermark\n",
    "%load_ext autotime\n",
    "%load_ext line_profiler"
   ]
  },
  {
   "cell_type": "code",
   "execution_count": 85,
   "id": "566fef5e",
   "metadata": {},
   "outputs": [
    {
     "name": "stdout",
     "output_type": "stream",
     "text": [
      "Python implementation: CPython\n",
      "Python version       : 3.7.12\n",
      "IPython version      : 7.33.0\n",
      "\n",
      "pandas: 1.3.5\n",
      "numpy : 1.19.5\n",
      "numba : 0.55.1\n",
      "\n",
      "time: 100 ms (started: 2022-05-10 08:26:28 +01:00)\n"
     ]
    }
   ],
   "source": [
    "watermark --python -p pandas,numpy,numba"
   ]
  },
  {
   "cell_type": "markdown",
   "id": "2ed098f8-386d-4081-b738-a3634b8ce132",
   "metadata": {},
   "source": [
    "## TOC:\n",
    "* [Python, Pandas and Numpy](#ppp)\n",
    "* [Slicing and assignment](#slice_and_assign)\n",
    "* [Performance](#performance)\n",
    "* [Misc](#misc)"
   ]
  },
  {
   "cell_type": "markdown",
   "id": "863afcab-5a56-40d3-b9b7-3d17f72151f6",
   "metadata": {},
   "source": [
    "#### Sources and extra readings:\n",
    "\n",
    "A considerable source for this is the series written by Tom Augspurger (core pandas maintainer) on modern Pandas\n",
    "https://tomaugspurger.github.io/modern-1-intro\n",
    "\n",
    "Also, Ian Ozsvald has written a lot about high performance python (and about pandas) https://ianozsvald.com/ or https://github.com/ianozsvald/notes_to_self\n",
    "\n",
    "And James Powell has published a few videos on pandas, eg https://www.youtube.com/watch?v=mWtfZaT7iSc\n",
    "\n",
    "I would say that Auspurger and Powell are two super-users. So, if you want to see hardcore pandas use you may give a look at their code"
   ]
  },
  {
   "cell_type": "markdown",
   "id": "8f095262-8788-4a6b-96a6-f8672a237151",
   "metadata": {},
   "source": [
    "# Python, Pandas and Numpy <a class=\"anchor\" id=\"ppp\"></a>"
   ]
  },
  {
   "cell_type": "markdown",
   "id": "a501bd65-1e22-43e3-a863-c7b6fd19fcfa",
   "metadata": {},
   "source": [
    "## Pandas is faster, because numpy is faster"
   ]
  },
  {
   "cell_type": "code",
   "execution_count": 6,
   "id": "14c80458-94cd-480d-a846-24c9983808d7",
   "metadata": {},
   "outputs": [
    {
     "name": "stdout",
     "output_type": "stream",
     "text": [
      "time: 920 µs (started: 2022-05-09 17:42:51 +01:00)\n"
     ]
    }
   ],
   "source": [
    "def python_on_numpy_max(_vals):\n",
    "    return max(_vals)\n",
    "    \n",
    "def numpy_max(_vals):\n",
    "    return np.max(_vals)\n",
    "    \n",
    "def pandas_series_max(series):\n",
    "    return series.max()\n",
    "\n",
    "def python_on_series_max(_series):\n",
    "    return max(_series)\n",
    "\n",
    "def python_on_python_max(_python_list):\n",
    "    return max(_python_list)\n",
    "\n",
    "def save_profiling_results_to_file(pr, filename):\n",
    "    result = io.StringIO()\n",
    "    pstats.Stats(pr,stream=result).print_stats()\n",
    "    result=result.getvalue()\n",
    "\n",
    "    # chop the string into a csv-like buffer\n",
    "    result='ncalls'+result.split('ncalls')[-1]\n",
    "    result='\\n'.join([','.join(line.rstrip().split(None,5)) for line in result.split('\\n')])\n",
    "    # save it to disk\n",
    "\n",
    "    with open(filename, 'w+') as f:\n",
    "        f.write(result)\n",
    "        f.close()"
   ]
  },
  {
   "cell_type": "code",
   "execution_count": 7,
   "id": "53f2ab67",
   "metadata": {},
   "outputs": [
    {
     "name": "stdout",
     "output_type": "stream",
     "text": [
      "time: 2.43 s (started: 2022-05-09 17:42:51 +01:00)\n"
     ]
    }
   ],
   "source": [
    "vals = np.random.choice(range(100), size=100_000_000)"
   ]
  },
  {
   "cell_type": "code",
   "execution_count": 8,
   "id": "f4950b9f-123c-4e2e-b8e0-1829d0c74b99",
   "metadata": {},
   "outputs": [
    {
     "name": "stdout",
     "output_type": "stream",
     "text": [
      "time: 9.29 s (started: 2022-05-09 17:42:54 +01:00)\n"
     ]
    }
   ],
   "source": [
    "pr = cProfile.Profile()\n",
    "pr.enable()\n",
    "python_on_numpy_max(vals)\n",
    "pr.disable()"
   ]
  },
  {
   "cell_type": "code",
   "execution_count": 9,
   "id": "9096156e-115b-4302-9543-71ffb66d5c06",
   "metadata": {},
   "outputs": [
    {
     "name": "stdout",
     "output_type": "stream",
     "text": [
      "time: 19.7 ms (started: 2022-05-09 17:43:03 +01:00)\n"
     ]
    }
   ],
   "source": [
    "save_profiling_results_to_file(pr, \"profilings/python_on_numpy.csv\")"
   ]
  },
  {
   "cell_type": "code",
   "execution_count": 10,
   "id": "bdb13e5c-7b43-49c0-9257-33def5ddce73",
   "metadata": {},
   "outputs": [
    {
     "name": "stdout",
     "output_type": "stream",
     "text": [
      "time: 135 ms (started: 2022-05-09 17:43:03 +01:00)\n"
     ]
    }
   ],
   "source": [
    "pr = cProfile.Profile()\n",
    "pr.enable()\n",
    "numpy_max(vals)\n",
    "pr.disable()"
   ]
  },
  {
   "cell_type": "code",
   "execution_count": 11,
   "id": "3fcc1ef0-0ad6-4985-a719-336a3a4a92b5",
   "metadata": {},
   "outputs": [
    {
     "name": "stdout",
     "output_type": "stream",
     "text": [
      "time: 28.1 ms (started: 2022-05-09 17:43:03 +01:00)\n"
     ]
    }
   ],
   "source": [
    "save_profiling_results_to_file(pr, \"profilings/numpy.csv\")"
   ]
  },
  {
   "cell_type": "code",
   "execution_count": 12,
   "id": "f96de115-70e3-4a89-8b7a-7ef985292bb8",
   "metadata": {},
   "outputs": [
    {
     "name": "stdout",
     "output_type": "stream",
     "text": [
      "time: 3.4 s (started: 2022-05-09 17:43:03 +01:00)\n"
     ]
    }
   ],
   "source": [
    "python_list = vals.tolist()\n",
    "\n",
    "pr = cProfile.Profile()\n",
    "pr.enable()\n",
    "python_on_python_max(python_list)\n",
    "pr.disable()"
   ]
  },
  {
   "cell_type": "code",
   "execution_count": 13,
   "id": "0ae9fdac-7477-4b84-b045-daf68cff1f29",
   "metadata": {},
   "outputs": [
    {
     "name": "stdout",
     "output_type": "stream",
     "text": [
      "time: 17.1 ms (started: 2022-05-09 17:43:07 +01:00)\n"
     ]
    }
   ],
   "source": [
    "save_profiling_results_to_file(pr, \"profilings/python_on_python.csv\")"
   ]
  },
  {
   "cell_type": "code",
   "execution_count": 14,
   "id": "ea46d556-e412-4731-bc64-a8cdf7545cd1",
   "metadata": {},
   "outputs": [
    {
     "name": "stdout",
     "output_type": "stream",
     "text": [
      "time: 112 ms (started: 2022-05-09 17:43:07 +01:00)\n"
     ]
    }
   ],
   "source": [
    "series = pd.Series(vals)\n",
    "\n",
    "pr = cProfile.Profile()\n",
    "pr.enable()\n",
    "pandas_series_max(series)\n",
    "pr.disable()"
   ]
  },
  {
   "cell_type": "code",
   "execution_count": 15,
   "id": "a64ed877-0164-4751-a924-b8205cb1caff",
   "metadata": {},
   "outputs": [
    {
     "name": "stdout",
     "output_type": "stream",
     "text": [
      "time: 511 ms (started: 2022-05-09 17:43:07 +01:00)\n"
     ]
    }
   ],
   "source": [
    "save_profiling_results_to_file(pr, \"profilings/pandas_max.csv\")"
   ]
  },
  {
   "cell_type": "markdown",
   "id": "e762ca3b-3e43-487e-8b12-bb36ff98cb58",
   "metadata": {},
   "source": [
    "## python (non vectorized) on pandas/numpy is slower than python on python"
   ]
  },
  {
   "cell_type": "code",
   "execution_count": 16,
   "id": "f46cb52a-5bfe-4e4f-8ef4-eedc3631c8f8",
   "metadata": {},
   "outputs": [
    {
     "name": "stdout",
     "output_type": "stream",
     "text": [
      "time: 9.63 s (started: 2022-05-09 17:43:07 +01:00)\n"
     ]
    }
   ],
   "source": [
    "_ = python_on_series_max(series)"
   ]
  },
  {
   "cell_type": "code",
   "execution_count": 17,
   "id": "70e8e7b3-0d0d-4605-9c25-8d237dc322b0",
   "metadata": {},
   "outputs": [
    {
     "name": "stdout",
     "output_type": "stream",
     "text": [
      "time: 9.48 s (started: 2022-05-09 17:43:17 +01:00)\n"
     ]
    }
   ],
   "source": [
    "_ = python_on_numpy_max(vals)"
   ]
  },
  {
   "cell_type": "code",
   "execution_count": 18,
   "id": "8f37ff11-6a00-4bf6-afc5-fe2ffbe502b2",
   "metadata": {},
   "outputs": [
    {
     "name": "stdout",
     "output_type": "stream",
     "text": [
      "time: 1.66 s (started: 2022-05-09 17:43:27 +01:00)\n"
     ]
    }
   ],
   "source": [
    "_ = python_on_python_max(python_list)"
   ]
  },
  {
   "cell_type": "code",
   "execution_count": 19,
   "id": "fccb8819-9f44-460d-b65f-f9c954dc8796",
   "metadata": {},
   "outputs": [
    {
     "name": "stdout",
     "output_type": "stream",
     "text": [
      "python_on_numpy.csv df \n",
      "\n"
     ]
    },
    {
     "name": "stderr",
     "output_type": "stream",
     "text": [
      "/home/ubuntu/pyenvs/sandbox/lib/python3.7/site-packages/ipykernel_launcher.py:3: FutureWarning: The default value of regex will change from True to False in a future version.\n",
      "  This is separate from the ipykernel package so we can avoid doing imports until\n"
     ]
    },
    {
     "data": {
      "text/html": [
       "<div>\n",
       "<style scoped>\n",
       "    .dataframe tbody tr th:only-of-type {\n",
       "        vertical-align: middle;\n",
       "    }\n",
       "\n",
       "    .dataframe tbody tr th {\n",
       "        vertical-align: top;\n",
       "    }\n",
       "\n",
       "    .dataframe thead th {\n",
       "        text-align: right;\n",
       "    }\n",
       "</style>\n",
       "<table border=\"1\" class=\"dataframe\">\n",
       "  <thead>\n",
       "    <tr style=\"text-align: right;\">\n",
       "      <th></th>\n",
       "      <th>ncalls</th>\n",
       "      <th>tottime</th>\n",
       "      <th>percall</th>\n",
       "      <th>cumtime</th>\n",
       "      <th>percall.1</th>\n",
       "      <th>filename:lineno(function)</th>\n",
       "    </tr>\n",
       "  </thead>\n",
       "  <tbody>\n",
       "    <tr>\n",
       "      <th>0</th>\n",
       "      <td>1</td>\n",
       "      <td>0.000</td>\n",
       "      <td>0.000</td>\n",
       "      <td>9.294</td>\n",
       "      <td>9.294</td>\n",
       "      <td>/tmp/ipykernel_4183/3850208658.py:3(&lt;module&gt;)</td>\n",
       "    </tr>\n",
       "    <tr>\n",
       "      <th>1</th>\n",
       "      <td>1</td>\n",
       "      <td>0.000</td>\n",
       "      <td>0.000</td>\n",
       "      <td>0.000</td>\n",
       "      <td>0.000</td>\n",
       "      <td>/tmp/ipykernel_4183/3850208658.py:4(&lt;module&gt;)</td>\n",
       "    </tr>\n",
       "    <tr>\n",
       "      <th>2</th>\n",
       "      <td>1</td>\n",
       "      <td>0.000</td>\n",
       "      <td>0.000</td>\n",
       "      <td>9.294</td>\n",
       "      <td>9.294</td>\n",
       "      <td>/tmp/ipykernel_4183/1235816665.py:1(python_on_...</td>\n",
       "    </tr>\n",
       "    <tr>\n",
       "      <th>3</th>\n",
       "      <td>1</td>\n",
       "      <td>0.000</td>\n",
       "      <td>0.000</td>\n",
       "      <td>0.000</td>\n",
       "      <td>0.000</td>\n",
       "      <td>{method 'disable' of '_lsprof.Profiler' objects}</td>\n",
       "    </tr>\n",
       "    <tr>\n",
       "      <th>4</th>\n",
       "      <td>2</td>\n",
       "      <td>0.000</td>\n",
       "      <td>0.000</td>\n",
       "      <td>0.000</td>\n",
       "      <td>0.000</td>\n",
       "      <td>IPython/core/hooks.py:103(__call__)</td>\n",
       "    </tr>\n",
       "    <tr>\n",
       "      <th>5</th>\n",
       "      <td>2</td>\n",
       "      <td>0.000</td>\n",
       "      <td>0.000</td>\n",
       "      <td>0.000</td>\n",
       "      <td>0.000</td>\n",
       "      <td>IPython/core/hooks.py:168(pre_run_code_hook)</td>\n",
       "    </tr>\n",
       "    <tr>\n",
       "      <th>6</th>\n",
       "      <td>1</td>\n",
       "      <td>0.000</td>\n",
       "      <td>0.000</td>\n",
       "      <td>0.000</td>\n",
       "      <td>0.000</td>\n",
       "      <td>IPython/core/interactiveshell.py:124(&lt;lambda&gt;)</td>\n",
       "    </tr>\n",
       "    <tr>\n",
       "      <th>7</th>\n",
       "      <td>2</td>\n",
       "      <td>0.000</td>\n",
       "      <td>0.000</td>\n",
       "      <td>0.000</td>\n",
       "      <td>0.000</td>\n",
       "      <td>IPython/core/interactiveshell.py:1301(user_glo...</td>\n",
       "    </tr>\n",
       "    <tr>\n",
       "      <th>8</th>\n",
       "      <td>2</td>\n",
       "      <td>0.000</td>\n",
       "      <td>0.000</td>\n",
       "      <td>0.000</td>\n",
       "      <td>0.000</td>\n",
       "      <td>IPython/core/interactiveshell.py:3336(_update_...</td>\n",
       "    </tr>\n",
       "    <tr>\n",
       "      <th>9</th>\n",
       "      <td>2</td>\n",
       "      <td>0.000</td>\n",
       "      <td>0.000</td>\n",
       "      <td>0.000</td>\n",
       "      <td>0.000</td>\n",
       "      <td>IPython/core/interactiveshell.py:3452(compare)</td>\n",
       "    </tr>\n",
       "    <tr>\n",
       "      <th>10</th>\n",
       "      <td>2</td>\n",
       "      <td>0.000</td>\n",
       "      <td>0.000</td>\n",
       "      <td>9.294</td>\n",
       "      <td>4.647</td>\n",
       "      <td>IPython/core/interactiveshell.py:3511(run_code)</td>\n",
       "    </tr>\n",
       "    <tr>\n",
       "      <th>11</th>\n",
       "      <td>4</td>\n",
       "      <td>0.000</td>\n",
       "      <td>0.000</td>\n",
       "      <td>0.000</td>\n",
       "      <td>0.000</td>\n",
       "      <td>IPython/core/compilerop.py:166(extra_flags)</td>\n",
       "    </tr>\n",
       "    <tr>\n",
       "      <th>12</th>\n",
       "      <td>2</td>\n",
       "      <td>0.000</td>\n",
       "      <td>0.000</td>\n",
       "      <td>0.000</td>\n",
       "      <td>0.000</td>\n",
       "      <td>/usr/lib/python3.7/codeop.py:140(__call__)</td>\n",
       "    </tr>\n",
       "    <tr>\n",
       "      <th>13</th>\n",
       "      <td>2</td>\n",
       "      <td>0.000</td>\n",
       "      <td>0.000</td>\n",
       "      <td>0.000</td>\n",
       "      <td>0.000</td>\n",
       "      <td>IPython/utils/ipstruct.py:125(__getattr__)</td>\n",
       "    </tr>\n",
       "    <tr>\n",
       "      <th>14</th>\n",
       "      <td>2</td>\n",
       "      <td>0.000</td>\n",
       "      <td>0.000</td>\n",
       "      <td>0.000</td>\n",
       "      <td>0.000</td>\n",
       "      <td>traitlets/traitlets.py:535(get)</td>\n",
       "    </tr>\n",
       "    <tr>\n",
       "      <th>15</th>\n",
       "      <td>2</td>\n",
       "      <td>0.000</td>\n",
       "      <td>0.000</td>\n",
       "      <td>0.000</td>\n",
       "      <td>0.000</td>\n",
       "      <td>traitlets/traitlets.py:566(__get__)</td>\n",
       "    </tr>\n",
       "    <tr>\n",
       "      <th>16</th>\n",
       "      <td>2</td>\n",
       "      <td>0.000</td>\n",
       "      <td>0.000</td>\n",
       "      <td>0.000</td>\n",
       "      <td>0.000</td>\n",
       "      <td>/usr/lib/python3.7/contextlib.py:81(__init__)</td>\n",
       "    </tr>\n",
       "    <tr>\n",
       "      <th>17</th>\n",
       "      <td>2</td>\n",
       "      <td>0.000</td>\n",
       "      <td>0.000</td>\n",
       "      <td>0.000</td>\n",
       "      <td>0.000</td>\n",
       "      <td>/usr/lib/python3.7/contextlib.py:107(__enter__)</td>\n",
       "    </tr>\n",
       "    <tr>\n",
       "      <th>18</th>\n",
       "      <td>2</td>\n",
       "      <td>0.000</td>\n",
       "      <td>0.000</td>\n",
       "      <td>0.000</td>\n",
       "      <td>0.000</td>\n",
       "      <td>/usr/lib/python3.7/contextlib.py:116(__exit__)</td>\n",
       "    </tr>\n",
       "    <tr>\n",
       "      <th>19</th>\n",
       "      <td>2</td>\n",
       "      <td>0.000</td>\n",
       "      <td>0.000</td>\n",
       "      <td>0.000</td>\n",
       "      <td>0.000</td>\n",
       "      <td>/usr/lib/python3.7/contextlib.py:237(helper)</td>\n",
       "    </tr>\n",
       "    <tr>\n",
       "      <th>20</th>\n",
       "      <td>2</td>\n",
       "      <td>0.000</td>\n",
       "      <td>0.000</td>\n",
       "      <td>0.000</td>\n",
       "      <td>0.000</td>\n",
       "      <td>{built-in method builtins.compile}</td>\n",
       "    </tr>\n",
       "    <tr>\n",
       "      <th>21</th>\n",
       "      <td>2</td>\n",
       "      <td>0.000</td>\n",
       "      <td>0.000</td>\n",
       "      <td>9.294</td>\n",
       "      <td>4.647</td>\n",
       "      <td>{built-in method builtins.exec}</td>\n",
       "    </tr>\n",
       "    <tr>\n",
       "      <th>22</th>\n",
       "      <td>4</td>\n",
       "      <td>0.000</td>\n",
       "      <td>0.000</td>\n",
       "      <td>0.000</td>\n",
       "      <td>0.000</td>\n",
       "      <td>{built-in method builtins.getattr}</td>\n",
       "    </tr>\n",
       "    <tr>\n",
       "      <th>23</th>\n",
       "      <td>2</td>\n",
       "      <td>0.000</td>\n",
       "      <td>0.000</td>\n",
       "      <td>0.000</td>\n",
       "      <td>0.000</td>\n",
       "      <td>{built-in method builtins.hasattr}</td>\n",
       "    </tr>\n",
       "    <tr>\n",
       "      <th>24</th>\n",
       "      <td>1</td>\n",
       "      <td>9.293</td>\n",
       "      <td>9.293</td>\n",
       "      <td>9.293</td>\n",
       "      <td>9.293</td>\n",
       "      <td>{built-in method builtins.max}</td>\n",
       "    </tr>\n",
       "    <tr>\n",
       "      <th>25</th>\n",
       "      <td>4</td>\n",
       "      <td>0.000</td>\n",
       "      <td>0.000</td>\n",
       "      <td>0.000</td>\n",
       "      <td>0.000</td>\n",
       "      <td>{built-in method builtins.next}</td>\n",
       "    </tr>\n",
       "  </tbody>\n",
       "</table>\n",
       "</div>"
      ],
      "text/plain": [
       "    ncalls  tottime  percall  cumtime  percall.1  \\\n",
       "0        1    0.000    0.000    9.294      9.294   \n",
       "1        1    0.000    0.000    0.000      0.000   \n",
       "2        1    0.000    0.000    9.294      9.294   \n",
       "3        1    0.000    0.000    0.000      0.000   \n",
       "4        2    0.000    0.000    0.000      0.000   \n",
       "5        2    0.000    0.000    0.000      0.000   \n",
       "6        1    0.000    0.000    0.000      0.000   \n",
       "7        2    0.000    0.000    0.000      0.000   \n",
       "8        2    0.000    0.000    0.000      0.000   \n",
       "9        2    0.000    0.000    0.000      0.000   \n",
       "10       2    0.000    0.000    9.294      4.647   \n",
       "11       4    0.000    0.000    0.000      0.000   \n",
       "12       2    0.000    0.000    0.000      0.000   \n",
       "13       2    0.000    0.000    0.000      0.000   \n",
       "14       2    0.000    0.000    0.000      0.000   \n",
       "15       2    0.000    0.000    0.000      0.000   \n",
       "16       2    0.000    0.000    0.000      0.000   \n",
       "17       2    0.000    0.000    0.000      0.000   \n",
       "18       2    0.000    0.000    0.000      0.000   \n",
       "19       2    0.000    0.000    0.000      0.000   \n",
       "20       2    0.000    0.000    0.000      0.000   \n",
       "21       2    0.000    0.000    9.294      4.647   \n",
       "22       4    0.000    0.000    0.000      0.000   \n",
       "23       2    0.000    0.000    0.000      0.000   \n",
       "24       1    9.293    9.293    9.293      9.293   \n",
       "25       4    0.000    0.000    0.000      0.000   \n",
       "\n",
       "                            filename:lineno(function)  \n",
       "0       /tmp/ipykernel_4183/3850208658.py:3(<module>)  \n",
       "1       /tmp/ipykernel_4183/3850208658.py:4(<module>)  \n",
       "2   /tmp/ipykernel_4183/1235816665.py:1(python_on_...  \n",
       "3    {method 'disable' of '_lsprof.Profiler' objects}  \n",
       "4                 IPython/core/hooks.py:103(__call__)  \n",
       "5        IPython/core/hooks.py:168(pre_run_code_hook)  \n",
       "6      IPython/core/interactiveshell.py:124(<lambda>)  \n",
       "7   IPython/core/interactiveshell.py:1301(user_glo...  \n",
       "8   IPython/core/interactiveshell.py:3336(_update_...  \n",
       "9      IPython/core/interactiveshell.py:3452(compare)  \n",
       "10    IPython/core/interactiveshell.py:3511(run_code)  \n",
       "11        IPython/core/compilerop.py:166(extra_flags)  \n",
       "12         /usr/lib/python3.7/codeop.py:140(__call__)  \n",
       "13         IPython/utils/ipstruct.py:125(__getattr__)  \n",
       "14                    traitlets/traitlets.py:535(get)  \n",
       "15                traitlets/traitlets.py:566(__get__)  \n",
       "16      /usr/lib/python3.7/contextlib.py:81(__init__)  \n",
       "17    /usr/lib/python3.7/contextlib.py:107(__enter__)  \n",
       "18     /usr/lib/python3.7/contextlib.py:116(__exit__)  \n",
       "19       /usr/lib/python3.7/contextlib.py:237(helper)  \n",
       "20                 {built-in method builtins.compile}  \n",
       "21                    {built-in method builtins.exec}  \n",
       "22                 {built-in method builtins.getattr}  \n",
       "23                 {built-in method builtins.hasattr}  \n",
       "24                     {built-in method builtins.max}  \n",
       "25                    {built-in method builtins.next}  "
      ]
     },
     "metadata": {},
     "output_type": "display_data"
    },
    {
     "name": "stdout",
     "output_type": "stream",
     "text": [
      "\n",
      "\n",
      "\n",
      "\n",
      "python_on_python.csv df \n",
      "\n"
     ]
    },
    {
     "name": "stderr",
     "output_type": "stream",
     "text": [
      "/home/ubuntu/pyenvs/sandbox/lib/python3.7/site-packages/ipykernel_launcher.py:3: FutureWarning: The default value of regex will change from True to False in a future version.\n",
      "  This is separate from the ipykernel package so we can avoid doing imports until\n"
     ]
    },
    {
     "data": {
      "text/html": [
       "<div>\n",
       "<style scoped>\n",
       "    .dataframe tbody tr th:only-of-type {\n",
       "        vertical-align: middle;\n",
       "    }\n",
       "\n",
       "    .dataframe tbody tr th {\n",
       "        vertical-align: top;\n",
       "    }\n",
       "\n",
       "    .dataframe thead th {\n",
       "        text-align: right;\n",
       "    }\n",
       "</style>\n",
       "<table border=\"1\" class=\"dataframe\">\n",
       "  <thead>\n",
       "    <tr style=\"text-align: right;\">\n",
       "      <th></th>\n",
       "      <th>ncalls</th>\n",
       "      <th>tottime</th>\n",
       "      <th>percall</th>\n",
       "      <th>cumtime</th>\n",
       "      <th>percall.1</th>\n",
       "      <th>filename:lineno(function)</th>\n",
       "    </tr>\n",
       "  </thead>\n",
       "  <tbody>\n",
       "    <tr>\n",
       "      <th>0</th>\n",
       "      <td>1</td>\n",
       "      <td>0.000</td>\n",
       "      <td>0.000</td>\n",
       "      <td>2.017</td>\n",
       "      <td>2.017</td>\n",
       "      <td>/tmp/ipykernel_4183/1235816665.py:13(python_on...</td>\n",
       "    </tr>\n",
       "    <tr>\n",
       "      <th>1</th>\n",
       "      <td>1</td>\n",
       "      <td>0.000</td>\n",
       "      <td>0.000</td>\n",
       "      <td>2.017</td>\n",
       "      <td>2.017</td>\n",
       "      <td>/tmp/ipykernel_4183/3587981226.py:5(&lt;module&gt;)</td>\n",
       "    </tr>\n",
       "    <tr>\n",
       "      <th>2</th>\n",
       "      <td>1</td>\n",
       "      <td>0.000</td>\n",
       "      <td>0.000</td>\n",
       "      <td>0.000</td>\n",
       "      <td>0.000</td>\n",
       "      <td>/tmp/ipykernel_4183/3587981226.py:6(&lt;module&gt;)</td>\n",
       "    </tr>\n",
       "    <tr>\n",
       "      <th>3</th>\n",
       "      <td>1</td>\n",
       "      <td>0.000</td>\n",
       "      <td>0.000</td>\n",
       "      <td>0.000</td>\n",
       "      <td>0.000</td>\n",
       "      <td>{method 'disable' of '_lsprof.Profiler' objects}</td>\n",
       "    </tr>\n",
       "    <tr>\n",
       "      <th>4</th>\n",
       "      <td>2</td>\n",
       "      <td>0.000</td>\n",
       "      <td>0.000</td>\n",
       "      <td>0.000</td>\n",
       "      <td>0.000</td>\n",
       "      <td>IPython/core/hooks.py:103(__call__)</td>\n",
       "    </tr>\n",
       "    <tr>\n",
       "      <th>5</th>\n",
       "      <td>2</td>\n",
       "      <td>0.000</td>\n",
       "      <td>0.000</td>\n",
       "      <td>0.000</td>\n",
       "      <td>0.000</td>\n",
       "      <td>IPython/core/hooks.py:168(pre_run_code_hook)</td>\n",
       "    </tr>\n",
       "    <tr>\n",
       "      <th>6</th>\n",
       "      <td>1</td>\n",
       "      <td>0.000</td>\n",
       "      <td>0.000</td>\n",
       "      <td>0.000</td>\n",
       "      <td>0.000</td>\n",
       "      <td>IPython/core/interactiveshell.py:124(&lt;lambda&gt;)</td>\n",
       "    </tr>\n",
       "    <tr>\n",
       "      <th>7</th>\n",
       "      <td>2</td>\n",
       "      <td>0.000</td>\n",
       "      <td>0.000</td>\n",
       "      <td>0.000</td>\n",
       "      <td>0.000</td>\n",
       "      <td>IPython/core/interactiveshell.py:1301(user_glo...</td>\n",
       "    </tr>\n",
       "    <tr>\n",
       "      <th>8</th>\n",
       "      <td>2</td>\n",
       "      <td>0.000</td>\n",
       "      <td>0.000</td>\n",
       "      <td>0.000</td>\n",
       "      <td>0.000</td>\n",
       "      <td>IPython/core/interactiveshell.py:3336(_update_...</td>\n",
       "    </tr>\n",
       "    <tr>\n",
       "      <th>9</th>\n",
       "      <td>2</td>\n",
       "      <td>0.000</td>\n",
       "      <td>0.000</td>\n",
       "      <td>0.000</td>\n",
       "      <td>0.000</td>\n",
       "      <td>IPython/core/interactiveshell.py:3452(compare)</td>\n",
       "    </tr>\n",
       "    <tr>\n",
       "      <th>10</th>\n",
       "      <td>2</td>\n",
       "      <td>0.000</td>\n",
       "      <td>0.000</td>\n",
       "      <td>2.017</td>\n",
       "      <td>1.008</td>\n",
       "      <td>IPython/core/interactiveshell.py:3511(run_code)</td>\n",
       "    </tr>\n",
       "    <tr>\n",
       "      <th>11</th>\n",
       "      <td>4</td>\n",
       "      <td>0.000</td>\n",
       "      <td>0.000</td>\n",
       "      <td>0.000</td>\n",
       "      <td>0.000</td>\n",
       "      <td>IPython/core/compilerop.py:166(extra_flags)</td>\n",
       "    </tr>\n",
       "    <tr>\n",
       "      <th>12</th>\n",
       "      <td>2</td>\n",
       "      <td>0.000</td>\n",
       "      <td>0.000</td>\n",
       "      <td>0.000</td>\n",
       "      <td>0.000</td>\n",
       "      <td>/usr/lib/python3.7/codeop.py:140(__call__)</td>\n",
       "    </tr>\n",
       "    <tr>\n",
       "      <th>13</th>\n",
       "      <td>2</td>\n",
       "      <td>0.000</td>\n",
       "      <td>0.000</td>\n",
       "      <td>0.000</td>\n",
       "      <td>0.000</td>\n",
       "      <td>IPython/utils/ipstruct.py:125(__getattr__)</td>\n",
       "    </tr>\n",
       "    <tr>\n",
       "      <th>14</th>\n",
       "      <td>2</td>\n",
       "      <td>0.000</td>\n",
       "      <td>0.000</td>\n",
       "      <td>0.000</td>\n",
       "      <td>0.000</td>\n",
       "      <td>traitlets/traitlets.py:535(get)</td>\n",
       "    </tr>\n",
       "    <tr>\n",
       "      <th>15</th>\n",
       "      <td>2</td>\n",
       "      <td>0.000</td>\n",
       "      <td>0.000</td>\n",
       "      <td>0.000</td>\n",
       "      <td>0.000</td>\n",
       "      <td>traitlets/traitlets.py:566(__get__)</td>\n",
       "    </tr>\n",
       "    <tr>\n",
       "      <th>16</th>\n",
       "      <td>2</td>\n",
       "      <td>0.000</td>\n",
       "      <td>0.000</td>\n",
       "      <td>0.000</td>\n",
       "      <td>0.000</td>\n",
       "      <td>/usr/lib/python3.7/contextlib.py:81(__init__)</td>\n",
       "    </tr>\n",
       "    <tr>\n",
       "      <th>17</th>\n",
       "      <td>2</td>\n",
       "      <td>0.000</td>\n",
       "      <td>0.000</td>\n",
       "      <td>0.000</td>\n",
       "      <td>0.000</td>\n",
       "      <td>/usr/lib/python3.7/contextlib.py:107(__enter__)</td>\n",
       "    </tr>\n",
       "    <tr>\n",
       "      <th>18</th>\n",
       "      <td>2</td>\n",
       "      <td>0.000</td>\n",
       "      <td>0.000</td>\n",
       "      <td>0.000</td>\n",
       "      <td>0.000</td>\n",
       "      <td>/usr/lib/python3.7/contextlib.py:116(__exit__)</td>\n",
       "    </tr>\n",
       "    <tr>\n",
       "      <th>19</th>\n",
       "      <td>2</td>\n",
       "      <td>0.000</td>\n",
       "      <td>0.000</td>\n",
       "      <td>0.000</td>\n",
       "      <td>0.000</td>\n",
       "      <td>/usr/lib/python3.7/contextlib.py:237(helper)</td>\n",
       "    </tr>\n",
       "    <tr>\n",
       "      <th>20</th>\n",
       "      <td>2</td>\n",
       "      <td>0.000</td>\n",
       "      <td>0.000</td>\n",
       "      <td>0.000</td>\n",
       "      <td>0.000</td>\n",
       "      <td>{built-in method builtins.compile}</td>\n",
       "    </tr>\n",
       "    <tr>\n",
       "      <th>21</th>\n",
       "      <td>2</td>\n",
       "      <td>0.000</td>\n",
       "      <td>0.000</td>\n",
       "      <td>2.017</td>\n",
       "      <td>1.008</td>\n",
       "      <td>{built-in method builtins.exec}</td>\n",
       "    </tr>\n",
       "    <tr>\n",
       "      <th>22</th>\n",
       "      <td>4</td>\n",
       "      <td>0.000</td>\n",
       "      <td>0.000</td>\n",
       "      <td>0.000</td>\n",
       "      <td>0.000</td>\n",
       "      <td>{built-in method builtins.getattr}</td>\n",
       "    </tr>\n",
       "    <tr>\n",
       "      <th>23</th>\n",
       "      <td>2</td>\n",
       "      <td>0.000</td>\n",
       "      <td>0.000</td>\n",
       "      <td>0.000</td>\n",
       "      <td>0.000</td>\n",
       "      <td>{built-in method builtins.hasattr}</td>\n",
       "    </tr>\n",
       "    <tr>\n",
       "      <th>24</th>\n",
       "      <td>1</td>\n",
       "      <td>2.016</td>\n",
       "      <td>2.016</td>\n",
       "      <td>2.016</td>\n",
       "      <td>2.016</td>\n",
       "      <td>{built-in method builtins.max}</td>\n",
       "    </tr>\n",
       "    <tr>\n",
       "      <th>25</th>\n",
       "      <td>4</td>\n",
       "      <td>0.000</td>\n",
       "      <td>0.000</td>\n",
       "      <td>0.000</td>\n",
       "      <td>0.000</td>\n",
       "      <td>{built-in method builtins.next}</td>\n",
       "    </tr>\n",
       "  </tbody>\n",
       "</table>\n",
       "</div>"
      ],
      "text/plain": [
       "    ncalls  tottime  percall  cumtime  percall.1  \\\n",
       "0        1    0.000    0.000    2.017      2.017   \n",
       "1        1    0.000    0.000    2.017      2.017   \n",
       "2        1    0.000    0.000    0.000      0.000   \n",
       "3        1    0.000    0.000    0.000      0.000   \n",
       "4        2    0.000    0.000    0.000      0.000   \n",
       "5        2    0.000    0.000    0.000      0.000   \n",
       "6        1    0.000    0.000    0.000      0.000   \n",
       "7        2    0.000    0.000    0.000      0.000   \n",
       "8        2    0.000    0.000    0.000      0.000   \n",
       "9        2    0.000    0.000    0.000      0.000   \n",
       "10       2    0.000    0.000    2.017      1.008   \n",
       "11       4    0.000    0.000    0.000      0.000   \n",
       "12       2    0.000    0.000    0.000      0.000   \n",
       "13       2    0.000    0.000    0.000      0.000   \n",
       "14       2    0.000    0.000    0.000      0.000   \n",
       "15       2    0.000    0.000    0.000      0.000   \n",
       "16       2    0.000    0.000    0.000      0.000   \n",
       "17       2    0.000    0.000    0.000      0.000   \n",
       "18       2    0.000    0.000    0.000      0.000   \n",
       "19       2    0.000    0.000    0.000      0.000   \n",
       "20       2    0.000    0.000    0.000      0.000   \n",
       "21       2    0.000    0.000    2.017      1.008   \n",
       "22       4    0.000    0.000    0.000      0.000   \n",
       "23       2    0.000    0.000    0.000      0.000   \n",
       "24       1    2.016    2.016    2.016      2.016   \n",
       "25       4    0.000    0.000    0.000      0.000   \n",
       "\n",
       "                            filename:lineno(function)  \n",
       "0   /tmp/ipykernel_4183/1235816665.py:13(python_on...  \n",
       "1       /tmp/ipykernel_4183/3587981226.py:5(<module>)  \n",
       "2       /tmp/ipykernel_4183/3587981226.py:6(<module>)  \n",
       "3    {method 'disable' of '_lsprof.Profiler' objects}  \n",
       "4                 IPython/core/hooks.py:103(__call__)  \n",
       "5        IPython/core/hooks.py:168(pre_run_code_hook)  \n",
       "6      IPython/core/interactiveshell.py:124(<lambda>)  \n",
       "7   IPython/core/interactiveshell.py:1301(user_glo...  \n",
       "8   IPython/core/interactiveshell.py:3336(_update_...  \n",
       "9      IPython/core/interactiveshell.py:3452(compare)  \n",
       "10    IPython/core/interactiveshell.py:3511(run_code)  \n",
       "11        IPython/core/compilerop.py:166(extra_flags)  \n",
       "12         /usr/lib/python3.7/codeop.py:140(__call__)  \n",
       "13         IPython/utils/ipstruct.py:125(__getattr__)  \n",
       "14                    traitlets/traitlets.py:535(get)  \n",
       "15                traitlets/traitlets.py:566(__get__)  \n",
       "16      /usr/lib/python3.7/contextlib.py:81(__init__)  \n",
       "17    /usr/lib/python3.7/contextlib.py:107(__enter__)  \n",
       "18     /usr/lib/python3.7/contextlib.py:116(__exit__)  \n",
       "19       /usr/lib/python3.7/contextlib.py:237(helper)  \n",
       "20                 {built-in method builtins.compile}  \n",
       "21                    {built-in method builtins.exec}  \n",
       "22                 {built-in method builtins.getattr}  \n",
       "23                 {built-in method builtins.hasattr}  \n",
       "24                     {built-in method builtins.max}  \n",
       "25                    {built-in method builtins.next}  "
      ]
     },
     "metadata": {},
     "output_type": "display_data"
    },
    {
     "name": "stdout",
     "output_type": "stream",
     "text": [
      "\n",
      "\n",
      "\n",
      "\n",
      "numpy.csv df \n",
      "\n"
     ]
    },
    {
     "name": "stderr",
     "output_type": "stream",
     "text": [
      "/home/ubuntu/pyenvs/sandbox/lib/python3.7/site-packages/ipykernel_launcher.py:3: FutureWarning: The default value of regex will change from True to False in a future version.\n",
      "  This is separate from the ipykernel package so we can avoid doing imports until\n"
     ]
    },
    {
     "data": {
      "text/html": [
       "<div>\n",
       "<style scoped>\n",
       "    .dataframe tbody tr th:only-of-type {\n",
       "        vertical-align: middle;\n",
       "    }\n",
       "\n",
       "    .dataframe tbody tr th {\n",
       "        vertical-align: top;\n",
       "    }\n",
       "\n",
       "    .dataframe thead th {\n",
       "        text-align: right;\n",
       "    }\n",
       "</style>\n",
       "<table border=\"1\" class=\"dataframe\">\n",
       "  <thead>\n",
       "    <tr style=\"text-align: right;\">\n",
       "      <th></th>\n",
       "      <th>ncalls</th>\n",
       "      <th>tottime</th>\n",
       "      <th>percall</th>\n",
       "      <th>cumtime</th>\n",
       "      <th>percall.1</th>\n",
       "      <th>filename:lineno(function)</th>\n",
       "    </tr>\n",
       "  </thead>\n",
       "  <tbody>\n",
       "    <tr>\n",
       "      <th>0</th>\n",
       "      <td>1</td>\n",
       "      <td>0.000</td>\n",
       "      <td>0.000</td>\n",
       "      <td>0.135</td>\n",
       "      <td>0.135</td>\n",
       "      <td>/tmp/ipykernel_4183/2344467033.py:3(&lt;module&gt;)</td>\n",
       "    </tr>\n",
       "    <tr>\n",
       "      <th>2</th>\n",
       "      <td>1</td>\n",
       "      <td>0.000</td>\n",
       "      <td>0.000</td>\n",
       "      <td>0.135</td>\n",
       "      <td>0.135</td>\n",
       "      <td>/tmp/ipykernel_4183/1235816665.py:4(numpy_max)</td>\n",
       "    </tr>\n",
       "    <tr>\n",
       "      <th>3</th>\n",
       "      <td>1</td>\n",
       "      <td>0.000</td>\n",
       "      <td>0.000</td>\n",
       "      <td>0.135</td>\n",
       "      <td>0.135</td>\n",
       "      <td>&lt;__array_function__ internals&gt;:2(amax)</td>\n",
       "    </tr>\n",
       "    <tr>\n",
       "      <th>5</th>\n",
       "      <td>1</td>\n",
       "      <td>0.000</td>\n",
       "      <td>0.000</td>\n",
       "      <td>0.135</td>\n",
       "      <td>0.135</td>\n",
       "      <td>numpy/core/fromnumeric.py:70(_wrapreduction)</td>\n",
       "    </tr>\n",
       "    <tr>\n",
       "      <th>7</th>\n",
       "      <td>1</td>\n",
       "      <td>0.000</td>\n",
       "      <td>0.000</td>\n",
       "      <td>0.135</td>\n",
       "      <td>0.135</td>\n",
       "      <td>numpy/core/fromnumeric.py:2589(amax)</td>\n",
       "    </tr>\n",
       "    <tr>\n",
       "      <th>8</th>\n",
       "      <td>1</td>\n",
       "      <td>0.000</td>\n",
       "      <td>0.000</td>\n",
       "      <td>0.135</td>\n",
       "      <td>0.135</td>\n",
       "      <td>{built-in method numpy.core._multiarray_umath....</td>\n",
       "    </tr>\n",
       "    <tr>\n",
       "      <th>9</th>\n",
       "      <td>1</td>\n",
       "      <td>0.135</td>\n",
       "      <td>0.135</td>\n",
       "      <td>0.135</td>\n",
       "      <td>0.135</td>\n",
       "      <td>{method 'reduce' of 'numpy.ufunc' objects}</td>\n",
       "    </tr>\n",
       "    <tr>\n",
       "      <th>17</th>\n",
       "      <td>2</td>\n",
       "      <td>0.000</td>\n",
       "      <td>0.000</td>\n",
       "      <td>0.135</td>\n",
       "      <td>0.067</td>\n",
       "      <td>IPython/core/interactiveshell.py:3511(run_code)</td>\n",
       "    </tr>\n",
       "    <tr>\n",
       "      <th>29</th>\n",
       "      <td>2</td>\n",
       "      <td>0.000</td>\n",
       "      <td>0.000</td>\n",
       "      <td>0.135</td>\n",
       "      <td>0.067</td>\n",
       "      <td>{built-in method builtins.exec}</td>\n",
       "    </tr>\n",
       "  </tbody>\n",
       "</table>\n",
       "</div>"
      ],
      "text/plain": [
       "    ncalls  tottime  percall  cumtime  percall.1  \\\n",
       "0        1    0.000    0.000    0.135      0.135   \n",
       "2        1    0.000    0.000    0.135      0.135   \n",
       "3        1    0.000    0.000    0.135      0.135   \n",
       "5        1    0.000    0.000    0.135      0.135   \n",
       "7        1    0.000    0.000    0.135      0.135   \n",
       "8        1    0.000    0.000    0.135      0.135   \n",
       "9        1    0.135    0.135    0.135      0.135   \n",
       "17       2    0.000    0.000    0.135      0.067   \n",
       "29       2    0.000    0.000    0.135      0.067   \n",
       "\n",
       "                            filename:lineno(function)  \n",
       "0       /tmp/ipykernel_4183/2344467033.py:3(<module>)  \n",
       "2      /tmp/ipykernel_4183/1235816665.py:4(numpy_max)  \n",
       "3              <__array_function__ internals>:2(amax)  \n",
       "5        numpy/core/fromnumeric.py:70(_wrapreduction)  \n",
       "7                numpy/core/fromnumeric.py:2589(amax)  \n",
       "8   {built-in method numpy.core._multiarray_umath....  \n",
       "9          {method 'reduce' of 'numpy.ufunc' objects}  \n",
       "17    IPython/core/interactiveshell.py:3511(run_code)  \n",
       "29                    {built-in method builtins.exec}  "
      ]
     },
     "metadata": {},
     "output_type": "display_data"
    },
    {
     "name": "stdout",
     "output_type": "stream",
     "text": [
      "\n",
      "\n",
      "\n",
      "\n",
      "pandas_max.csv df \n",
      "\n"
     ]
    },
    {
     "name": "stderr",
     "output_type": "stream",
     "text": [
      "/home/ubuntu/pyenvs/sandbox/lib/python3.7/site-packages/ipykernel_launcher.py:3: FutureWarning: The default value of regex will change from True to False in a future version.\n",
      "  This is separate from the ipykernel package so we can avoid doing imports until\n"
     ]
    },
    {
     "data": {
      "text/html": [
       "<div>\n",
       "<style scoped>\n",
       "    .dataframe tbody tr th:only-of-type {\n",
       "        vertical-align: middle;\n",
       "    }\n",
       "\n",
       "    .dataframe tbody tr th {\n",
       "        vertical-align: top;\n",
       "    }\n",
       "\n",
       "    .dataframe thead th {\n",
       "        text-align: right;\n",
       "    }\n",
       "</style>\n",
       "<table border=\"1\" class=\"dataframe\">\n",
       "  <thead>\n",
       "    <tr style=\"text-align: right;\">\n",
       "      <th></th>\n",
       "      <th>ncalls</th>\n",
       "      <th>tottime</th>\n",
       "      <th>percall</th>\n",
       "      <th>cumtime</th>\n",
       "      <th>percall.1</th>\n",
       "      <th>filename:lineno(function)</th>\n",
       "    </tr>\n",
       "  </thead>\n",
       "  <tbody>\n",
       "    <tr>\n",
       "      <th>0</th>\n",
       "      <td>1</td>\n",
       "      <td>0.00</td>\n",
       "      <td>0.000</td>\n",
       "      <td>0.111</td>\n",
       "      <td>0.111</td>\n",
       "      <td>/tmp/ipykernel_4183/1727385726.py:5(&lt;module&gt;)</td>\n",
       "    </tr>\n",
       "    <tr>\n",
       "      <th>2</th>\n",
       "      <td>1</td>\n",
       "      <td>0.00</td>\n",
       "      <td>0.000</td>\n",
       "      <td>0.111</td>\n",
       "      <td>0.111</td>\n",
       "      <td>/tmp/ipykernel_4183/1235816665.py:7(pandas_ser...</td>\n",
       "    </tr>\n",
       "    <tr>\n",
       "      <th>4</th>\n",
       "      <td>1</td>\n",
       "      <td>0.00</td>\n",
       "      <td>0.000</td>\n",
       "      <td>0.111</td>\n",
       "      <td>0.111</td>\n",
       "      <td>pandas/core/series.py:4359(_reduce)</td>\n",
       "    </tr>\n",
       "    <tr>\n",
       "      <th>7</th>\n",
       "      <td>1</td>\n",
       "      <td>0.00</td>\n",
       "      <td>0.000</td>\n",
       "      <td>0.111</td>\n",
       "      <td>0.111</td>\n",
       "      <td>pandas/core/generic.py:10324(_stat_function)</td>\n",
       "    </tr>\n",
       "    <tr>\n",
       "      <th>8</th>\n",
       "      <td>1</td>\n",
       "      <td>0.00</td>\n",
       "      <td>0.000</td>\n",
       "      <td>0.111</td>\n",
       "      <td>0.111</td>\n",
       "      <td>pandas/core/generic.py:10363(max)</td>\n",
       "    </tr>\n",
       "    <tr>\n",
       "      <th>9</th>\n",
       "      <td>1</td>\n",
       "      <td>0.00</td>\n",
       "      <td>0.000</td>\n",
       "      <td>0.111</td>\n",
       "      <td>0.111</td>\n",
       "      <td>pandas/core/generic.py:10806(max)</td>\n",
       "    </tr>\n",
       "    <tr>\n",
       "      <th>11</th>\n",
       "      <td>1</td>\n",
       "      <td>0.00</td>\n",
       "      <td>0.000</td>\n",
       "      <td>0.111</td>\n",
       "      <td>0.111</td>\n",
       "      <td>pandas/core/nanops.py:120(f)</td>\n",
       "    </tr>\n",
       "    <tr>\n",
       "      <th>16</th>\n",
       "      <td>1</td>\n",
       "      <td>0.00</td>\n",
       "      <td>0.000</td>\n",
       "      <td>0.111</td>\n",
       "      <td>0.111</td>\n",
       "      <td>pandas/core/nanops.py:396(new_func)</td>\n",
       "    </tr>\n",
       "    <tr>\n",
       "      <th>17</th>\n",
       "      <td>1</td>\n",
       "      <td>0.00</td>\n",
       "      <td>0.000</td>\n",
       "      <td>0.110</td>\n",
       "      <td>0.110</td>\n",
       "      <td>pandas/core/nanops.py:997(reduction)</td>\n",
       "    </tr>\n",
       "    <tr>\n",
       "      <th>40</th>\n",
       "      <td>1</td>\n",
       "      <td>0.00</td>\n",
       "      <td>0.000</td>\n",
       "      <td>0.110</td>\n",
       "      <td>0.110</td>\n",
       "      <td>numpy/core/_methods.py:37(_amax)</td>\n",
       "    </tr>\n",
       "    <tr>\n",
       "      <th>41</th>\n",
       "      <td>1</td>\n",
       "      <td>0.00</td>\n",
       "      <td>0.000</td>\n",
       "      <td>0.110</td>\n",
       "      <td>0.110</td>\n",
       "      <td>{method 'max' of 'numpy.ndarray' objects}</td>\n",
       "    </tr>\n",
       "    <tr>\n",
       "      <th>45</th>\n",
       "      <td>2</td>\n",
       "      <td>0.11</td>\n",
       "      <td>0.055</td>\n",
       "      <td>0.110</td>\n",
       "      <td>0.055</td>\n",
       "      <td>{method 'reduce' of 'numpy.ufunc' objects}</td>\n",
       "    </tr>\n",
       "    <tr>\n",
       "      <th>55</th>\n",
       "      <td>2</td>\n",
       "      <td>0.00</td>\n",
       "      <td>0.000</td>\n",
       "      <td>0.111</td>\n",
       "      <td>0.055</td>\n",
       "      <td>IPython/core/interactiveshell.py:3511(run_code)</td>\n",
       "    </tr>\n",
       "    <tr>\n",
       "      <th>67</th>\n",
       "      <td>2</td>\n",
       "      <td>0.00</td>\n",
       "      <td>0.000</td>\n",
       "      <td>0.111</td>\n",
       "      <td>0.055</td>\n",
       "      <td>{built-in method builtins.exec}</td>\n",
       "    </tr>\n",
       "  </tbody>\n",
       "</table>\n",
       "</div>"
      ],
      "text/plain": [
       "    ncalls  tottime  percall  cumtime  percall.1  \\\n",
       "0        1     0.00    0.000    0.111      0.111   \n",
       "2        1     0.00    0.000    0.111      0.111   \n",
       "4        1     0.00    0.000    0.111      0.111   \n",
       "7        1     0.00    0.000    0.111      0.111   \n",
       "8        1     0.00    0.000    0.111      0.111   \n",
       "9        1     0.00    0.000    0.111      0.111   \n",
       "11       1     0.00    0.000    0.111      0.111   \n",
       "16       1     0.00    0.000    0.111      0.111   \n",
       "17       1     0.00    0.000    0.110      0.110   \n",
       "40       1     0.00    0.000    0.110      0.110   \n",
       "41       1     0.00    0.000    0.110      0.110   \n",
       "45       2     0.11    0.055    0.110      0.055   \n",
       "55       2     0.00    0.000    0.111      0.055   \n",
       "67       2     0.00    0.000    0.111      0.055   \n",
       "\n",
       "                            filename:lineno(function)  \n",
       "0       /tmp/ipykernel_4183/1727385726.py:5(<module>)  \n",
       "2   /tmp/ipykernel_4183/1235816665.py:7(pandas_ser...  \n",
       "4                 pandas/core/series.py:4359(_reduce)  \n",
       "7        pandas/core/generic.py:10324(_stat_function)  \n",
       "8                   pandas/core/generic.py:10363(max)  \n",
       "9                   pandas/core/generic.py:10806(max)  \n",
       "11                       pandas/core/nanops.py:120(f)  \n",
       "16                pandas/core/nanops.py:396(new_func)  \n",
       "17               pandas/core/nanops.py:997(reduction)  \n",
       "40                   numpy/core/_methods.py:37(_amax)  \n",
       "41          {method 'max' of 'numpy.ndarray' objects}  \n",
       "45         {method 'reduce' of 'numpy.ufunc' objects}  \n",
       "55    IPython/core/interactiveshell.py:3511(run_code)  \n",
       "67                    {built-in method builtins.exec}  "
      ]
     },
     "metadata": {},
     "output_type": "display_data"
    },
    {
     "name": "stdout",
     "output_type": "stream",
     "text": [
      "\n",
      "\n",
      "\n",
      "\n",
      "time: 86.1 ms (started: 2022-05-09 17:43:28 +01:00)\n"
     ]
    }
   ],
   "source": [
    "for name in [\"python_on_numpy.csv\",  \"python_on_python.csv\", \"numpy.csv\", \"pandas_max.csv\"]:\n",
    "    df = pd.read_csv(f\"profilings/{name}\")\n",
    "    df['filename:lineno(function)'] = df['filename:lineno(function)'].str.replace(\"/home/ubuntu/pyenvs/sandbox/lib/python3.7/site-packages/\",\"\")\n",
    "    print(f\"{name} df \\n\")\n",
    "    if name in {\"python_on_python.csv\",  \"python_on_numpy.csv\"}:\n",
    "        display(df)\n",
    "    else:\n",
    "        display(df[df[\"percall.1\"]>0])\n",
    "    print(\"\\n\\n\\n\")"
   ]
  },
  {
   "cell_type": "markdown",
   "id": "ea670cda-0cd5-4342-972e-992bcd833b18",
   "metadata": {},
   "source": [
    "## Conclusions\n",
    "- Often pandas is just a wrapper around numpy. The more you move away from doing stuff that is naturally in numpy, ie vectorized operations, the less performant your code will be\n",
    "- numpy and pandas are performant if and only if you stick to vectorized numpy and pandas operations. They are not more performant by definition"
   ]
  },
  {
   "cell_type": "markdown",
   "id": "8ef0e8f2-e107-4782-aead-7415cce93f11",
   "metadata": {},
   "source": [
    "## Why is pandas faster? (aka why is numpy faster?)\n",
    "It is a wrapper around numpy, which is faster\n",
    "\n",
    "Numpy is faster because of a few different reasons:\n",
    "\n",
    "1. In numpy data is stored in a contiguous C array. So, the data points are stored one after the other, which makes access faster (Locality of reference https://en.wikipedia.org/wiki/Locality_of_reference). In python you store pointers to objects in a list."
   ]
  },
  {
   "cell_type": "code",
   "execution_count": 20,
   "id": "8ff80d49-4ab5-43c0-8c37-23ad0e4f64cb",
   "metadata": {},
   "outputs": [
    {
     "name": "stdout",
     "output_type": "stream",
     "text": [
      "time: 620 µs (started: 2022-05-09 17:43:28 +01:00)\n"
     ]
    }
   ],
   "source": [
    "foo = np.array([1, 2, 3])"
   ]
  },
  {
   "cell_type": "code",
   "execution_count": 21,
   "id": "c1cfc99f-7b89-4142-8551-d796d84a8dd5",
   "metadata": {},
   "outputs": [
    {
     "data": {
      "text/plain": [
       "139844586109008"
      ]
     },
     "execution_count": 21,
     "metadata": {},
     "output_type": "execute_result"
    },
    {
     "name": "stdout",
     "output_type": "stream",
     "text": [
      "time: 3.01 ms (started: 2022-05-09 17:43:28 +01:00)\n"
     ]
    }
   ],
   "source": [
    "id(foo[0])"
   ]
  },
  {
   "cell_type": "code",
   "execution_count": 22,
   "id": "177e84c9-24f5-4849-aab2-f07647312731",
   "metadata": {},
   "outputs": [
    {
     "data": {
      "text/plain": [
       "139844586108080"
      ]
     },
     "execution_count": 22,
     "metadata": {},
     "output_type": "execute_result"
    },
    {
     "name": "stdout",
     "output_type": "stream",
     "text": [
      "time: 1.98 ms (started: 2022-05-09 17:43:28 +01:00)\n"
     ]
    }
   ],
   "source": [
    "id(foo[0])"
   ]
  },
  {
   "cell_type": "code",
   "execution_count": 23,
   "id": "ca25c6b3-333a-4e30-b48b-e4b621c06403",
   "metadata": {},
   "outputs": [
    {
     "data": {
      "text/plain": [
       "False"
      ]
     },
     "execution_count": 23,
     "metadata": {},
     "output_type": "execute_result"
    },
    {
     "name": "stdout",
     "output_type": "stream",
     "text": [
      "time: 2.18 ms (started: 2022-05-09 17:43:28 +01:00)\n"
     ]
    }
   ],
   "source": [
    "# the object is created on the fly when you access it through an index\n",
    "foo[0] is foo[0]"
   ]
  },
  {
   "cell_type": "code",
   "execution_count": 24,
   "id": "481d5e31-e88d-469a-85bd-295624a201cf",
   "metadata": {},
   "outputs": [
    {
     "name": "stdout",
     "output_type": "stream",
     "text": [
      "time: 7.07 ms (started: 2022-05-09 17:43:28 +01:00)\n"
     ]
    }
   ],
   "source": [
    "bar = [1, 2, 3]"
   ]
  },
  {
   "cell_type": "code",
   "execution_count": 25,
   "id": "22a205f1-f9d6-47c6-8ce4-d68ede6ad99a",
   "metadata": {},
   "outputs": [
    {
     "data": {
      "text/plain": [
       "139846703192576"
      ]
     },
     "execution_count": 25,
     "metadata": {},
     "output_type": "execute_result"
    },
    {
     "name": "stdout",
     "output_type": "stream",
     "text": [
      "time: 2.5 ms (started: 2022-05-09 17:43:28 +01:00)\n"
     ]
    }
   ],
   "source": [
    "id(bar[0])"
   ]
  },
  {
   "cell_type": "code",
   "execution_count": 26,
   "id": "01d5261b-99cb-4dc9-8696-50c6800f2300",
   "metadata": {},
   "outputs": [
    {
     "data": {
      "text/plain": [
       "139846703192576"
      ]
     },
     "execution_count": 26,
     "metadata": {},
     "output_type": "execute_result"
    },
    {
     "name": "stdout",
     "output_type": "stream",
     "text": [
      "time: 2.14 ms (started: 2022-05-09 17:43:28 +01:00)\n"
     ]
    }
   ],
   "source": [
    "id(bar[0])"
   ]
  },
  {
   "cell_type": "code",
   "execution_count": 27,
   "id": "cdd26de1-8f9f-49ac-800b-7d39df523378",
   "metadata": {},
   "outputs": [
    {
     "data": {
      "text/plain": [
       "True"
      ]
     },
     "execution_count": 27,
     "metadata": {},
     "output_type": "execute_result"
    },
    {
     "name": "stdout",
     "output_type": "stream",
     "text": [
      "time: 3.57 ms (started: 2022-05-09 17:43:28 +01:00)\n"
     ]
    }
   ],
   "source": [
    "# the same object is accessed through the pointer stored in the list\n",
    "bar[0] is bar[0]"
   ]
  },
  {
   "cell_type": "markdown",
   "id": "d65b4903-f1d6-409b-90e1-325aac5d2b6b",
   "metadata": {},
   "source": [
    "2. Also, by definition they are also stored with single type. While in python when you stored integers in a list you are storing pointers to objects. The objects can be whatever, and the type has to be checked before operations can be ran. This is also the reason why numpy/pandas are more memory efficient"
   ]
  },
  {
   "cell_type": "code",
   "execution_count": 28,
   "id": "0a2ab2ee-0a80-4f57-b869-3ec7fa9bad88",
   "metadata": {},
   "outputs": [
    {
     "name": "stdout",
     "output_type": "stream",
     "text": [
      "time: 483 µs (started: 2022-05-09 17:43:29 +01:00)\n"
     ]
    }
   ],
   "source": [
    "foo = np.array([1, 2, 3])"
   ]
  },
  {
   "cell_type": "code",
   "execution_count": 29,
   "id": "4e70a47e-545a-46c4-ae4a-5eaf7de0cc38",
   "metadata": {},
   "outputs": [
    {
     "ename": "ValueError",
     "evalue": "invalid literal for int() with base 10: 'a'",
     "output_type": "error",
     "traceback": [
      "\u001b[0;31m---------------------------------------------------------------------------\u001b[0m",
      "\u001b[0;31mValueError\u001b[0m                                Traceback (most recent call last)",
      "\u001b[0;32m/tmp/ipykernel_4183/529154778.py\u001b[0m in \u001b[0;36m<module>\u001b[0;34m\u001b[0m\n\u001b[0;32m----> 1\u001b[0;31m \u001b[0mfoo\u001b[0m\u001b[0;34m[\u001b[0m\u001b[0;36m2\u001b[0m\u001b[0;34m]\u001b[0m \u001b[0;34m=\u001b[0m \u001b[0;34m\"a\"\u001b[0m\u001b[0;34m\u001b[0m\u001b[0;34m\u001b[0m\u001b[0m\n\u001b[0m",
      "\u001b[0;31mValueError\u001b[0m: invalid literal for int() with base 10: 'a'"
     ]
    },
    {
     "name": "stdout",
     "output_type": "stream",
     "text": [
      "time: 216 ms (started: 2022-05-09 17:43:29 +01:00)\n"
     ]
    }
   ],
   "source": [
    "foo[2] = \"a\""
   ]
  },
  {
   "cell_type": "code",
   "execution_count": 30,
   "id": "5214d22f-6e4b-42d0-9aca-9ed726f0b2a7",
   "metadata": {},
   "outputs": [
    {
     "name": "stdout",
     "output_type": "stream",
     "text": [
      "time: 509 µs (started: 2022-05-09 17:48:06 +01:00)\n"
     ]
    }
   ],
   "source": [
    "bar = list([1, \"a\", 3.5])"
   ]
  },
  {
   "cell_type": "code",
   "execution_count": 31,
   "id": "576f1654-11a9-457b-a3bf-f071681855f1",
   "metadata": {},
   "outputs": [
    {
     "data": {
      "text/plain": [
       "[1, 'a', 3.5]"
      ]
     },
     "execution_count": 31,
     "metadata": {},
     "output_type": "execute_result"
    },
    {
     "name": "stdout",
     "output_type": "stream",
     "text": [
      "time: 3.18 ms (started: 2022-05-09 17:48:06 +01:00)\n"
     ]
    }
   ],
   "source": [
    "bar"
   ]
  },
  {
   "cell_type": "markdown",
   "id": "850f5983-50c1-4d14-aeb6-4fd274d8d2c2",
   "metadata": {},
   "source": [
    "3. Many numpy operations are implement in C and operates directly on the array, rather than having to do expensive loops like python does. The first is faster. Also, even if the operation has been implemented in cPython it still needs to move the data from python objects to C consumable objects, which has some overhead. Compared to numpy where the arrays can already consumed by C"
   ]
  },
  {
   "cell_type": "markdown",
   "id": "617113a2-dfa7-4242-899f-cd8ece7d0845",
   "metadata": {},
   "source": [
    "python max implementation is in Cpython but still loops through the iterable provided as argument\n",
    "https://github.com/python/cpython/blob/da20d7401de97b425897d3069f71f77b039eb16f/Python/bltinmodule.c#L1756"
   ]
  },
  {
   "cell_type": "markdown",
   "id": "ad1be2ca-1323-41c9-aed3-4fa2e0c37ae5",
   "metadata": {},
   "source": [
    "## Sources (use the stackoverflow answers as a starting point)\n",
    "- https://stackoverflow.com/questions/40911491/some-confusions-on-how-numpy-array-stored-in-python\n",
    "- https://stackoverflow.com/questions/8385602/why-are-numpy-arrays-so-fast\n",
    "- https://www.reddit.com/r/Python/comments/jorq7/how_numpy_is_faster_in_computation/\n"
   ]
  },
  {
   "cell_type": "markdown",
   "id": "596a7abe-2f99-46b8-8761-7c203ad90711",
   "metadata": {},
   "source": [
    "# Slicing and assignments <a class=\"anchor\" id=\"slice_and_assign\"></a>"
   ]
  },
  {
   "cell_type": "markdown",
   "id": "6bdcf3e5-cfb7-4473-a2bc-d07ab2bcb447",
   "metadata": {},
   "source": [
    "## Using indexes may not feel natural at first but getting used to them will simplify many operations"
   ]
  },
  {
   "cell_type": "code",
   "execution_count": 32,
   "id": "9f597c99-e3dd-434b-8126-117cfa4662e9",
   "metadata": {},
   "outputs": [
    {
     "name": "stdout",
     "output_type": "stream",
     "text": [
      "time: 6.78 ms (started: 2022-05-09 17:48:07 +01:00)\n"
     ]
    }
   ],
   "source": [
    "size =1_000\n",
    "df = pd.DataFrame({\n",
    "    \"cat1\": np.random.choice([\"a\", \"b\", \"c\"], size=size, p=[0.6, 0.3, 0.1]),\n",
    "    \"cat2\": np.random.choice([\"d\", \"e\", \"f\"], size=size, p=[0.6, 0.3, 0.1]),\n",
    "    \"numbers\": np.random.choice(range(10), size=size),\n",
    "}).set_index([\"cat1\", \"cat2\"]).sort_index()"
   ]
  },
  {
   "cell_type": "markdown",
   "id": "634428b6-2704-4ecb-a09b-793cae13f93c",
   "metadata": {},
   "source": [
    "## Indexes make slicing way less verbose"
   ]
  },
  {
   "cell_type": "code",
   "execution_count": 33,
   "id": "b3814dbd-fe2c-4d62-b5fc-4b0c9832d5dc",
   "metadata": {},
   "outputs": [
    {
     "data": {
      "text/plain": [
       "cat1  cat2\n",
       "a     f       1\n",
       "      f       4\n",
       "      f       1\n",
       "      f       1\n",
       "      f       9\n",
       "Name: numbers, dtype: int64"
      ]
     },
     "execution_count": 33,
     "metadata": {},
     "output_type": "execute_result"
    },
    {
     "name": "stdout",
     "output_type": "stream",
     "text": [
      "time: 5.96 ms (started: 2022-05-09 17:48:07 +01:00)\n"
     ]
    }
   ],
   "source": [
    "# this is way less verbose than ...\n",
    "df.loc[(\"a\", \"f\"),\"numbers\"].head()"
   ]
  },
  {
   "cell_type": "code",
   "execution_count": 34,
   "id": "c33e986a-9905-4782-bfbe-16b67b1fbdfa",
   "metadata": {},
   "outputs": [
    {
     "data": {
      "text/plain": [
       "525    1\n",
       "526    4\n",
       "527    1\n",
       "528    1\n",
       "529    9\n",
       "Name: numbers, dtype: int64"
      ]
     },
     "execution_count": 34,
     "metadata": {},
     "output_type": "execute_result"
    },
    {
     "name": "stdout",
     "output_type": "stream",
     "text": [
      "time: 10.2 ms (started: 2022-05-09 17:48:07 +01:00)\n"
     ]
    }
   ],
   "source": [
    "# this\n",
    "df_temp = df.reset_index()\n",
    "df_temp[(df_temp['cat1'] == \"a\") & (df_temp['cat2']==\"f\")][\"numbers\"].head()"
   ]
  },
  {
   "cell_type": "markdown",
   "id": "03a33f81-4a85-436c-b184-f15e552e24f1",
   "metadata": {},
   "source": [
    "## Indexes make alignment automatic for most operations"
   ]
  },
  {
   "cell_type": "code",
   "execution_count": 35,
   "id": "b46fa679-96a0-45b3-ac72-550452155df2",
   "metadata": {},
   "outputs": [
    {
     "name": "stdout",
     "output_type": "stream",
     "text": [
      "time: 2.58 ms (started: 2022-05-09 17:48:07 +01:00)\n"
     ]
    }
   ],
   "source": [
    "df_copy = df.copy().assign(numbers=df[\"numbers\"].clip(2,))"
   ]
  },
  {
   "cell_type": "code",
   "execution_count": 36,
   "id": "6d60e32e-496d-44a1-b56c-22c88f4d4ca6",
   "metadata": {},
   "outputs": [
    {
     "data": {
      "text/html": [
       "<div>\n",
       "<style scoped>\n",
       "    .dataframe tbody tr th:only-of-type {\n",
       "        vertical-align: middle;\n",
       "    }\n",
       "\n",
       "    .dataframe tbody tr th {\n",
       "        vertical-align: top;\n",
       "    }\n",
       "\n",
       "    .dataframe thead th {\n",
       "        text-align: right;\n",
       "    }\n",
       "</style>\n",
       "<table border=\"1\" class=\"dataframe\">\n",
       "  <thead>\n",
       "    <tr style=\"text-align: right;\">\n",
       "      <th></th>\n",
       "      <th></th>\n",
       "      <th>numbers</th>\n",
       "      <th>numbers_minmaxed</th>\n",
       "    </tr>\n",
       "    <tr>\n",
       "      <th>cat1</th>\n",
       "      <th>cat2</th>\n",
       "      <th></th>\n",
       "      <th></th>\n",
       "    </tr>\n",
       "  </thead>\n",
       "  <tbody>\n",
       "    <tr>\n",
       "      <th rowspan=\"10\" valign=\"top\">c</th>\n",
       "      <th>e</th>\n",
       "      <td>7</td>\n",
       "      <td>0.71</td>\n",
       "    </tr>\n",
       "    <tr>\n",
       "      <th>e</th>\n",
       "      <td>3</td>\n",
       "      <td>0.14</td>\n",
       "    </tr>\n",
       "    <tr>\n",
       "      <th>e</th>\n",
       "      <td>5</td>\n",
       "      <td>0.43</td>\n",
       "    </tr>\n",
       "    <tr>\n",
       "      <th>e</th>\n",
       "      <td>2</td>\n",
       "      <td>0.00</td>\n",
       "    </tr>\n",
       "    <tr>\n",
       "      <th>e</th>\n",
       "      <td>3</td>\n",
       "      <td>0.14</td>\n",
       "    </tr>\n",
       "    <tr>\n",
       "      <th>e</th>\n",
       "      <td>7</td>\n",
       "      <td>0.71</td>\n",
       "    </tr>\n",
       "    <tr>\n",
       "      <th>f</th>\n",
       "      <td>2</td>\n",
       "      <td>0.00</td>\n",
       "    </tr>\n",
       "    <tr>\n",
       "      <th>f</th>\n",
       "      <td>6</td>\n",
       "      <td>0.80</td>\n",
       "    </tr>\n",
       "    <tr>\n",
       "      <th>f</th>\n",
       "      <td>2</td>\n",
       "      <td>0.00</td>\n",
       "    </tr>\n",
       "    <tr>\n",
       "      <th>f</th>\n",
       "      <td>7</td>\n",
       "      <td>1.00</td>\n",
       "    </tr>\n",
       "  </tbody>\n",
       "</table>\n",
       "</div>"
      ],
      "text/plain": [
       "           numbers  numbers_minmaxed\n",
       "cat1 cat2                           \n",
       "c    e           7              0.71\n",
       "     e           3              0.14\n",
       "     e           5              0.43\n",
       "     e           2              0.00\n",
       "     e           3              0.14\n",
       "     e           7              0.71\n",
       "     f           2              0.00\n",
       "     f           6              0.80\n",
       "     f           2              0.00\n",
       "     f           7              1.00"
      ]
     },
     "execution_count": 36,
     "metadata": {},
     "output_type": "execute_result"
    },
    {
     "name": "stdout",
     "output_type": "stream",
     "text": [
      "time: 23 ms (started: 2022-05-09 17:48:07 +01:00)\n"
     ]
    }
   ],
   "source": [
    "stats = df_copy.groupby(level=[0,1])[\"numbers\"].agg([\"min\", \"max\"])\n",
    "df_copy.assign(\n",
    "    numbers_minmaxed=((df_copy['numbers']-stats['min'])/(stats['max']-stats['min'])).round(2)\n",
    ").tail(10)"
   ]
  },
  {
   "cell_type": "code",
   "execution_count": 37,
   "id": "caaa8cba-ccec-4fea-a070-b6bdf7e7ca24",
   "metadata": {},
   "outputs": [
    {
     "data": {
      "text/html": [
       "<div>\n",
       "<style scoped>\n",
       "    .dataframe tbody tr th:only-of-type {\n",
       "        vertical-align: middle;\n",
       "    }\n",
       "\n",
       "    .dataframe tbody tr th {\n",
       "        vertical-align: top;\n",
       "    }\n",
       "\n",
       "    .dataframe thead th {\n",
       "        text-align: right;\n",
       "    }\n",
       "</style>\n",
       "<table border=\"1\" class=\"dataframe\">\n",
       "  <thead>\n",
       "    <tr style=\"text-align: right;\">\n",
       "      <th></th>\n",
       "      <th>cat1</th>\n",
       "      <th>cat2</th>\n",
       "      <th>numbers</th>\n",
       "      <th>numbers_minmaxed</th>\n",
       "    </tr>\n",
       "  </thead>\n",
       "  <tbody>\n",
       "    <tr>\n",
       "      <th>990</th>\n",
       "      <td>c</td>\n",
       "      <td>e</td>\n",
       "      <td>7</td>\n",
       "      <td>0.71</td>\n",
       "    </tr>\n",
       "    <tr>\n",
       "      <th>991</th>\n",
       "      <td>c</td>\n",
       "      <td>e</td>\n",
       "      <td>3</td>\n",
       "      <td>0.14</td>\n",
       "    </tr>\n",
       "    <tr>\n",
       "      <th>992</th>\n",
       "      <td>c</td>\n",
       "      <td>e</td>\n",
       "      <td>5</td>\n",
       "      <td>0.43</td>\n",
       "    </tr>\n",
       "    <tr>\n",
       "      <th>993</th>\n",
       "      <td>c</td>\n",
       "      <td>e</td>\n",
       "      <td>2</td>\n",
       "      <td>0.00</td>\n",
       "    </tr>\n",
       "    <tr>\n",
       "      <th>994</th>\n",
       "      <td>c</td>\n",
       "      <td>e</td>\n",
       "      <td>3</td>\n",
       "      <td>0.14</td>\n",
       "    </tr>\n",
       "    <tr>\n",
       "      <th>995</th>\n",
       "      <td>c</td>\n",
       "      <td>e</td>\n",
       "      <td>7</td>\n",
       "      <td>0.71</td>\n",
       "    </tr>\n",
       "    <tr>\n",
       "      <th>996</th>\n",
       "      <td>c</td>\n",
       "      <td>f</td>\n",
       "      <td>2</td>\n",
       "      <td>0.00</td>\n",
       "    </tr>\n",
       "    <tr>\n",
       "      <th>997</th>\n",
       "      <td>c</td>\n",
       "      <td>f</td>\n",
       "      <td>6</td>\n",
       "      <td>0.80</td>\n",
       "    </tr>\n",
       "    <tr>\n",
       "      <th>998</th>\n",
       "      <td>c</td>\n",
       "      <td>f</td>\n",
       "      <td>2</td>\n",
       "      <td>0.00</td>\n",
       "    </tr>\n",
       "    <tr>\n",
       "      <th>999</th>\n",
       "      <td>c</td>\n",
       "      <td>f</td>\n",
       "      <td>7</td>\n",
       "      <td>1.00</td>\n",
       "    </tr>\n",
       "  </tbody>\n",
       "</table>\n",
       "</div>"
      ],
      "text/plain": [
       "    cat1 cat2  numbers  numbers_minmaxed\n",
       "990    c    e        7              0.71\n",
       "991    c    e        3              0.14\n",
       "992    c    e        5              0.43\n",
       "993    c    e        2              0.00\n",
       "994    c    e        3              0.14\n",
       "995    c    e        7              0.71\n",
       "996    c    f        2              0.00\n",
       "997    c    f        6              0.80\n",
       "998    c    f        2              0.00\n",
       "999    c    f        7              1.00"
      ]
     },
     "execution_count": 37,
     "metadata": {},
     "output_type": "execute_result"
    },
    {
     "name": "stdout",
     "output_type": "stream",
     "text": [
      "time: 26.2 ms (started: 2022-05-09 17:48:07 +01:00)\n"
     ]
    }
   ],
   "source": [
    "# an extra merge and an extra drop\n",
    "stats_no_idx = df_copy.groupby(level=[0,1])[\"numbers\"].agg([\"min\", \"max\"]).reset_index()\n",
    "(\n",
    "    df_copy.reset_index()\n",
    "     .merge(stats_no_idx, on=['cat1', 'cat2'], how=\"left\")\n",
    "     .assign(numbers_minmaxed=lambda x: ((x['numbers']-x['min'])/(x['max']-x['min'])).round(2))\n",
    "     .drop([\"min\", \"max\"], axis=1)\n",
    ").tail(10)"
   ]
  },
  {
   "cell_type": "markdown",
   "id": "c2b307c2-d1ef-46d5-9fdb-7c72ec31b293",
   "metadata": {},
   "source": [
    "## Fifty shades of slicing"
   ]
  },
  {
   "cell_type": "code",
   "execution_count": 38,
   "id": "f05def8e-6b4c-429d-b493-6433102a628e",
   "metadata": {},
   "outputs": [
    {
     "data": {
      "text/plain": [
       "cat1  cat2\n",
       "a     f       1\n",
       "      f       4\n",
       "      f       1\n",
       "      f       1\n",
       "      f       9\n",
       "             ..\n",
       "      f       1\n",
       "      f       3\n",
       "      f       2\n",
       "      f       7\n",
       "      f       0\n",
       "Name: numbers, Length: 70, dtype: int64"
      ]
     },
     "execution_count": 38,
     "metadata": {},
     "output_type": "execute_result"
    },
    {
     "name": "stdout",
     "output_type": "stream",
     "text": [
      "time: 7.71 ms (started: 2022-05-09 17:48:07 +01:00)\n"
     ]
    }
   ],
   "source": [
    "# use index values\n",
    "df.loc[(\"a\", \"f\"),\"numbers\"]"
   ]
  },
  {
   "cell_type": "code",
   "execution_count": 39,
   "id": "27d72990-8ff3-43e3-ab59-74ad96ab4c67",
   "metadata": {},
   "outputs": [
    {
     "data": {
      "text/plain": [
       "cat1  cat2\n",
       "a     f       1\n",
       "      f       4\n",
       "      f       1\n",
       "      f       1\n",
       "      f       9\n",
       "             ..\n",
       "      f       1\n",
       "      f       3\n",
       "      f       2\n",
       "      f       7\n",
       "      f       0\n",
       "Name: numbers, Length: 70, dtype: int64"
      ]
     },
     "execution_count": 39,
     "metadata": {},
     "output_type": "execute_result"
    },
    {
     "name": "stdout",
     "output_type": "stream",
     "text": [
      "time: 7.04 ms (started: 2022-05-09 17:48:07 +01:00)\n"
     ]
    }
   ],
   "source": [
    "# use index position\n",
    "df.iloc[np.argwhere(df.index==('a','f')).ravel()][\"numbers\"]"
   ]
  },
  {
   "cell_type": "code",
   "execution_count": 40,
   "id": "3ece6832-de4c-4ff9-956a-d950c14df163",
   "metadata": {},
   "outputs": [
    {
     "data": {
      "text/plain": [
       "(slice(None, None, None), ['f', 'e'])"
      ]
     },
     "execution_count": 40,
     "metadata": {},
     "output_type": "execute_result"
    },
    {
     "name": "stdout",
     "output_type": "stream",
     "text": [
      "time: 2.28 ms (started: 2022-05-09 17:48:08 +01:00)\n"
     ]
    }
   ],
   "source": [
    "pd.IndexSlice[:,[\"f\", \"e\"]]"
   ]
  },
  {
   "cell_type": "code",
   "execution_count": 41,
   "id": "5037ac59-19a1-4286-a4e0-f53b8a83f0f0",
   "metadata": {},
   "outputs": [
    {
     "data": {
      "text/plain": [
       "cat1  cat2\n",
       "a     f       1\n",
       "      f       4\n",
       "      f       1\n",
       "      f       1\n",
       "      f       9\n",
       "             ..\n",
       "c     e       3\n",
       "      e       5\n",
       "      e       2\n",
       "      e       3\n",
       "      e       7\n",
       "Name: numbers, Length: 402, dtype: int64"
      ]
     },
     "execution_count": 41,
     "metadata": {},
     "output_type": "execute_result"
    },
    {
     "name": "stdout",
     "output_type": "stream",
     "text": [
      "time: 17.8 ms (started: 2022-05-09 17:48:08 +01:00)\n"
     ]
    }
   ],
   "source": [
    "df.loc[pd.IndexSlice[:,[\"f\", \"e\"]], \"numbers\"]\n",
    "# a cleaner version of df.loc[(slice(None, None, None), [\"f\", \"e\"]), \"numbers\"]\n",
    "# https://stackoverflow.com/questions/44087637/pandas-how-does-indexslice-work"
   ]
  },
  {
   "cell_type": "code",
   "execution_count": 42,
   "id": "98aefa2e-1efc-471b-a72b-698011514840",
   "metadata": {},
   "outputs": [
    {
     "data": {
      "text/plain": [
       "cat1  cat2\n",
       "a     f       3\n",
       "      f       3\n",
       "      f       3\n",
       "      f       3\n",
       "      f       3\n",
       "      f       3\n",
       "Name: numbers, dtype: int64"
      ]
     },
     "execution_count": 42,
     "metadata": {},
     "output_type": "execute_result"
    },
    {
     "name": "stdout",
     "output_type": "stream",
     "text": [
      "time: 5.36 ms (started: 2022-05-09 17:48:08 +01:00)\n"
     ]
    }
   ],
   "source": [
    "df.loc[(df.index==('a','f')) & (df['numbers']==3), \"numbers\"]"
   ]
  },
  {
   "cell_type": "markdown",
   "id": "4085801a-ce71-40d5-a8c3-50810102d9d9",
   "metadata": {},
   "source": [
    "## Assignements"
   ]
  },
  {
   "cell_type": "code",
   "execution_count": 43,
   "id": "faf310c9-ecb1-498a-b7fa-7097774b9d4c",
   "metadata": {},
   "outputs": [
    {
     "name": "stdout",
     "output_type": "stream",
     "text": [
      "time: 620 µs (started: 2022-05-09 17:48:08 +01:00)\n"
     ]
    }
   ],
   "source": [
    "df_copy = df.copy()"
   ]
  },
  {
   "cell_type": "code",
   "execution_count": 44,
   "id": "436c4884-f117-4e59-b589-ee035a4113c7",
   "metadata": {},
   "outputs": [
    {
     "data": {
      "text/plain": [
       "0     85\n",
       "1     97\n",
       "2    109\n",
       "3    124\n",
       "4    122\n",
       "5     95\n",
       "6     84\n",
       "7     95\n",
       "8     79\n",
       "9    110\n",
       "Name: numbers, dtype: int64"
      ]
     },
     "execution_count": 44,
     "metadata": {},
     "output_type": "execute_result"
    },
    {
     "name": "stdout",
     "output_type": "stream",
     "text": [
      "time: 5.42 ms (started: 2022-05-09 17:48:08 +01:00)\n"
     ]
    }
   ],
   "source": [
    "df['numbers'].value_counts().sort_index()"
   ]
  },
  {
   "cell_type": "code",
   "execution_count": 45,
   "id": "b38abbbe-56e7-4068-bb92-3ec9e0194a43",
   "metadata": {},
   "outputs": [
    {
     "name": "stdout",
     "output_type": "stream",
     "text": [
      "time: 2.22 ms (started: 2022-05-09 17:48:08 +01:00)\n"
     ]
    }
   ],
   "source": [
    "df.loc[(df.index==('a','f')) & (df['numbers']==3), \"numbers\"] = 3 ** 4"
   ]
  },
  {
   "cell_type": "code",
   "execution_count": 46,
   "id": "941413f0-99bf-4e35-adec-5f1f3e0e4b85",
   "metadata": {},
   "outputs": [
    {
     "name": "stdout",
     "output_type": "stream",
     "text": [
      "time: 1.87 ms (started: 2022-05-09 17:48:08 +01:00)\n"
     ]
    }
   ],
   "source": [
    "# assign it back\n",
    "df.loc[(df.index==('a','f')) & (df['numbers']==81), \"numbers\"] = 3"
   ]
  },
  {
   "cell_type": "code",
   "execution_count": 47,
   "id": "f8241d76-a05f-46a9-b452-9f356ef5d80a",
   "metadata": {},
   "outputs": [
    {
     "name": "stdout",
     "output_type": "stream",
     "text": [
      "time: 1.9 ms (started: 2022-05-09 17:48:08 +01:00)\n"
     ]
    }
   ],
   "source": [
    "df['numbers'] = np.where((df.index==('a','f')) & (df['numbers']==3), 3 **4, df['numbers'])"
   ]
  },
  {
   "cell_type": "code",
   "execution_count": 48,
   "id": "991700d3-0cb8-4c88-b41a-d6b4475baed7",
   "metadata": {},
   "outputs": [
    {
     "name": "stdout",
     "output_type": "stream",
     "text": [
      "time: 612 ms (started: 2022-05-09 17:48:08 +01:00)\n"
     ]
    }
   ],
   "source": [
    "df_copy['numbers'] = np.where(\n",
    "    (df_copy.index==('a','f')) & (df_copy['numbers']==3), 3 **4, \n",
    "    np.where((df_copy.index==('a','f')) & (df_copy['numbers']==4), 4 ** 5,\n",
    "             np.where((df_copy.index==('a','f')) & (df_copy['numbers']==5), 5 ** 6,\n",
    "             df_copy['numbers'])))"
   ]
  },
  {
   "cell_type": "code",
   "execution_count": 49,
   "id": "62133872-e74c-4fc7-9124-db26c3803f12",
   "metadata": {},
   "outputs": [
    {
     "data": {
      "text/plain": [
       "0         85\n",
       "1         97\n",
       "2        109\n",
       "3        118\n",
       "4        115\n",
       "5         93\n",
       "6         84\n",
       "7         95\n",
       "8         79\n",
       "9        110\n",
       "81         6\n",
       "1024       7\n",
       "15625      2\n",
       "Name: numbers, dtype: int64"
      ]
     },
     "execution_count": 49,
     "metadata": {},
     "output_type": "execute_result"
    },
    {
     "name": "stdout",
     "output_type": "stream",
     "text": [
      "time: 3.6 ms (started: 2022-05-09 17:48:08 +01:00)\n"
     ]
    }
   ],
   "source": [
    "df_copy['numbers'].value_counts().sort_index()"
   ]
  },
  {
   "cell_type": "code",
   "execution_count": 50,
   "id": "15713fe9-826c-40c0-8fd4-beb5dbd9f2d8",
   "metadata": {},
   "outputs": [
    {
     "name": "stdout",
     "output_type": "stream",
     "text": [
      "time: 607 µs (started: 2022-05-09 17:48:08 +01:00)\n"
     ]
    }
   ],
   "source": [
    "df_copy = df.copy()"
   ]
  },
  {
   "cell_type": "code",
   "execution_count": 51,
   "id": "d8cdbbfe-33c3-4701-9fa7-42f055ce6423",
   "metadata": {},
   "outputs": [
    {
     "name": "stdout",
     "output_type": "stream",
     "text": [
      "time: 5.74 ms (started: 2022-05-09 17:48:08 +01:00)\n"
     ]
    }
   ],
   "source": [
    "## The above is arguably hard to read, so we can achieve the same result with something like. I think that this is the nicest and most flexible\n",
    "conditions, choices = zip(*[\n",
    "    # ((condition), choice)\n",
    "    ((df_copy.index==('a','f')) & (df_copy['numbers']==3), 3 **4),\n",
    "    ((df_copy.index==('a','f')) & (df_copy['numbers']==4), 4 ** 5),\n",
    "    ((df_copy.index==('a','f')) & (df_copy['numbers']==5), 5 ** 6),\n",
    "])\n",
    "df_copy['numbers'] = pd.Series(np.select(conditions, choices, default=np.nan), index=df_copy.index).fillna(df_copy['numbers'])"
   ]
  },
  {
   "cell_type": "code",
   "execution_count": 52,
   "id": "563e5aa6-86e4-4c18-b2ba-a67cd3adcdcd",
   "metadata": {},
   "outputs": [
    {
     "data": {
      "text/plain": [
       "0.0         85\n",
       "1.0         97\n",
       "2.0        109\n",
       "3.0        118\n",
       "4.0        115\n",
       "5.0         93\n",
       "6.0         84\n",
       "7.0         95\n",
       "8.0         79\n",
       "9.0        110\n",
       "81.0         6\n",
       "1024.0       7\n",
       "15625.0      2\n",
       "Name: numbers, dtype: int64"
      ]
     },
     "execution_count": 52,
     "metadata": {},
     "output_type": "execute_result"
    },
    {
     "name": "stdout",
     "output_type": "stream",
     "text": [
      "time: 5.96 ms (started: 2022-05-09 17:48:08 +01:00)\n"
     ]
    }
   ],
   "source": [
    "df_copy['numbers'].value_counts().sort_index()"
   ]
  },
  {
   "cell_type": "code",
   "execution_count": 53,
   "id": "97cf6902-18f3-4c77-8b18-7449f7936937",
   "metadata": {},
   "outputs": [
    {
     "name": "stdout",
     "output_type": "stream",
     "text": [
      "time: 754 µs (started: 2022-05-09 17:48:09 +01:00)\n"
     ]
    }
   ],
   "source": [
    "df_copy = df.copy()"
   ]
  },
  {
   "cell_type": "code",
   "execution_count": 54,
   "id": "6674f6ea-38e2-46f7-a574-0cb615ad82e6",
   "metadata": {},
   "outputs": [
    {
     "name": "stdout",
     "output_type": "stream",
     "text": [
      "time: 6.46 ms (started: 2022-05-09 17:48:09 +01:00)\n"
     ]
    }
   ],
   "source": [
    "# Or given that we are always using the same indexes and only changing behavior according to value, we can also use a mapper\n",
    "mapper = {3: 4, 4:5, 5:6}\n",
    "df_copy.loc[(\"a\", \"f\"), \"numbers\"] = (\n",
    "    df_copy.loc[(\"a\", \"f\")][\"numbers\"] ** df_copy.loc[(\"a\", \"f\")][\"numbers\"].map(mapper).fillna(1)\n",
    ")"
   ]
  },
  {
   "cell_type": "code",
   "execution_count": 55,
   "id": "0092536f-43c0-4060-87ed-e31b862a9b0d",
   "metadata": {},
   "outputs": [
    {
     "data": {
      "text/plain": [
       "0.0         85\n",
       "1.0         97\n",
       "2.0        109\n",
       "3.0        118\n",
       "4.0        115\n",
       "5.0         93\n",
       "6.0         84\n",
       "7.0         95\n",
       "8.0         79\n",
       "9.0        110\n",
       "81.0         6\n",
       "1024.0       7\n",
       "15625.0      2\n",
       "Name: numbers, dtype: int64"
      ]
     },
     "execution_count": 55,
     "metadata": {},
     "output_type": "execute_result"
    },
    {
     "name": "stdout",
     "output_type": "stream",
     "text": [
      "time: 4.45 ms (started: 2022-05-09 17:48:09 +01:00)\n"
     ]
    }
   ],
   "source": [
    "df_copy['numbers'].value_counts().sort_index()"
   ]
  },
  {
   "cell_type": "markdown",
   "id": "620a8e99-dbe8-4a92-8de7-99926dcd58a4",
   "metadata": {},
   "source": [
    "# Performance <a class=\"anchor\" id=\"performance\"></a>"
   ]
  },
  {
   "cell_type": "markdown",
   "id": "f7fb8dc9-293c-4907-8f0b-ef2806295714",
   "metadata": {},
   "source": [
    "## Also, when combining multiple dataframes concatenate them rather than append each one of the sequentially to the main one\n",
    "\n",
    "```\n",
    "Depending on the values, pandas might have to recast the data to a different type. And indexes are immutable, so each time you append pandas has to create an entirely new one.\n",
    "```\n",
    "https://tomaugspurger.github.io/modern-4-performance"
   ]
  },
  {
   "cell_type": "markdown",
   "id": "341212cd-704d-4586-80dc-8473168055be",
   "metadata": {},
   "source": [
    "## Vectorize, vectorize, vectorize\n",
    "\n",
    "For what concerns writing efficient pandas getting used to indexes goes hand in hand with getting used to think in terms of vectorized operations. You should always try to vectorize your operation, avoid at all cost `.apply` and/or iterations. There are many ways to do so:\n",
    "\n",
    "1. use in-built pandas type specific methods, ie series.max(), series.mean(), series.str.whatever (these include regex ones and slicing `.str[:5]`)"
   ]
  },
  {
   "cell_type": "code",
   "execution_count": 56,
   "id": "62ff20e6-c052-4a3e-97db-a40d9c7c3734",
   "metadata": {},
   "outputs": [
    {
     "name": "stdout",
     "output_type": "stream",
     "text": [
      "time: 506 ms (started: 2022-05-09 17:48:09 +01:00)\n"
     ]
    }
   ],
   "source": [
    "size =1_000_000\n",
    "df = pd.DataFrame({\n",
    "    \"cat1\": np.random.choice([\"a\", \"b\", \"c\"], size=size, p=[0.6, 0.3, 0.1]),\n",
    "    \"cat2\": np.random.choice([\"d\", \"e\", \"f\"], size=size, p=[0.6, 0.3, 0.1]),\n",
    "    \"numbers\": np.random.choice(range(10), size=size),\n",
    "}).set_index([\"cat1\", \"cat2\"]).sort_index()"
   ]
  },
  {
   "cell_type": "code",
   "execution_count": 57,
   "id": "57854fc7-11c3-4dba-845c-e270cb10d834",
   "metadata": {},
   "outputs": [
    {
     "data": {
      "text/plain": [
       "cat1  cat2\n",
       "a     d       0.000000\n",
       "      d       0.888889\n",
       "      d       0.666667\n",
       "      d       0.666667\n",
       "      d       0.333333\n",
       "                ...   \n",
       "c     f       0.666667\n",
       "      f       0.777778\n",
       "      f       0.222222\n",
       "      f       0.000000\n",
       "      f       0.888889\n",
       "Name: numbers, Length: 1000000, dtype: float64"
      ]
     },
     "execution_count": 57,
     "metadata": {},
     "output_type": "execute_result"
    },
    {
     "name": "stdout",
     "output_type": "stream",
     "text": [
      "time: 1.02 s (started: 2022-05-09 17:48:09 +01:00)\n"
     ]
    }
   ],
   "source": [
    "# when I started working with pandas this felt much more natural to me\n",
    "\n",
    "# again min_max scaling within groups\n",
    "df_copy = df.copy()\n",
    "df_copy.groupby(level=[0,1])[\"numbers\"].apply(lambda x: (x-x.min())/(x.max()-x.min()))"
   ]
  },
  {
   "cell_type": "code",
   "execution_count": 58,
   "id": "bbcc1705-d49a-432e-b48e-49651bc7e455",
   "metadata": {},
   "outputs": [
    {
     "data": {
      "text/plain": [
       "cat1  cat2\n",
       "a     d       0.000000\n",
       "      d       0.888889\n",
       "      d       0.666667\n",
       "      d       0.666667\n",
       "      d       0.333333\n",
       "                ...   \n",
       "c     f       0.666667\n",
       "      f       0.777778\n",
       "      f       0.222222\n",
       "      f       0.000000\n",
       "      f       0.888889\n",
       "Name: numbers, Length: 1000000, dtype: float64"
      ]
     },
     "execution_count": 58,
     "metadata": {},
     "output_type": "execute_result"
    },
    {
     "name": "stdout",
     "output_type": "stream",
     "text": [
      "time: 109 ms (started: 2022-05-09 17:48:10 +01:00)\n"
     ]
    }
   ],
   "source": [
    "# but if vectorized leads to a significant improvement in performance\n",
    "grouped = df_copy.groupby(level=[0,1])[\"numbers\"]\n",
    "(df_copy.numbers - grouped.transform(np.min))/(grouped.transform(np.max)-grouped.transform(np.min))"
   ]
  },
  {
   "cell_type": "markdown",
   "id": "499d6f93-75d2-4773-a445-b14cdc04c746",
   "metadata": {},
   "source": [
    "## If you cannot vectorize with pandas\n",
    "\n",
    "2. use numpy operations\n",
    "3. use Numba (JIT compiler that translates a subset of Python and NumPy code into fast machine code)\n",
    "4. use Cython (gives C-like performance with code that is written mostly in python with C-inspired syntax)\n",
    "5. possibly use `eval`. I have never tried it, so cannot comment on that https://pandas.pydata.org/docs/user_guide/enhancingperf.html#expression-evaluation-via-eval\n",
    "6. parallelize through Dask"
   ]
  },
  {
   "cell_type": "markdown",
   "id": "3c29d6a5-2544-43df-91ca-da5ae3abe8a6",
   "metadata": {},
   "source": [
    "### The difference in speed between the two cells below is something to think about. Numpy is likely to be faster than pandas\n",
    "more details here https://speakerdeck.com/ianozsvald/making-pandas-fly-europython-2020?slide=15"
   ]
  },
  {
   "cell_type": "code",
   "execution_count": 82,
   "id": "2339cf42-37e2-41f1-a78f-a870b0f3a16f",
   "metadata": {},
   "outputs": [
    {
     "data": {
      "text/plain": [
       "4500090"
      ]
     },
     "execution_count": 82,
     "metadata": {},
     "output_type": "execute_result"
    },
    {
     "name": "stdout",
     "output_type": "stream",
     "text": [
      "time: 4.03 ms (started: 2022-05-09 18:01:41 +01:00)\n"
     ]
    }
   ],
   "source": [
    "df_copy['numbers'].sum()"
   ]
  },
  {
   "cell_type": "code",
   "execution_count": 83,
   "id": "44f806b0-c22b-4f57-bc8d-a609dafb8091",
   "metadata": {},
   "outputs": [
    {
     "data": {
      "text/plain": [
       "4500090"
      ]
     },
     "execution_count": 83,
     "metadata": {},
     "output_type": "execute_result"
    },
    {
     "name": "stdout",
     "output_type": "stream",
     "text": [
      "time: 2.56 ms (started: 2022-05-09 18:01:48 +01:00)\n"
     ]
    }
   ],
   "source": [
    "df_copy['numbers'].values.sum()"
   ]
  },
  {
   "cell_type": "markdown",
   "id": "e7894bce-1cd1-4cd7-a3dc-72c74ba161bd",
   "metadata": {},
   "source": [
    "### Vectorize with numpy or numba"
   ]
  },
  {
   "cell_type": "code",
   "execution_count": 60,
   "id": "2b81372f-0cb3-42b9-928a-bead85e16c30",
   "metadata": {},
   "outputs": [
    {
     "name": "stdout",
     "output_type": "stream",
     "text": [
      "time: 758 µs (started: 2022-05-09 17:48:13 +01:00)\n"
     ]
    }
   ],
   "source": [
    "def dummy_op(value):\n",
    "    return math.log(value+1)"
   ]
  },
  {
   "cell_type": "code",
   "execution_count": 61,
   "id": "f885b902-1097-4709-b658-84edea0ee058",
   "metadata": {},
   "outputs": [
    {
     "name": "stdout",
     "output_type": "stream",
     "text": [
      "time: 491 ms (started: 2022-05-09 17:48:13 +01:00)\n"
     ]
    }
   ],
   "source": [
    "bar_apply = df_copy[\"numbers\"].apply(dummy_op)"
   ]
  },
  {
   "cell_type": "code",
   "execution_count": 62,
   "id": "75f779ba-f697-46b9-a456-57ae6bfed40c",
   "metadata": {},
   "outputs": [
    {
     "name": "stdout",
     "output_type": "stream",
     "text": [
      "time: 30.9 ms (started: 2022-05-09 17:48:13 +01:00)\n"
     ]
    }
   ],
   "source": [
    "bar_numpy = np.log(df_copy[\"numbers\"]+1)"
   ]
  },
  {
   "cell_type": "code",
   "execution_count": 63,
   "id": "893dc061-dc37-4083-beb4-19e8ad38362f",
   "metadata": {},
   "outputs": [
    {
     "name": "stdout",
     "output_type": "stream",
     "text": [
      "time: 51.5 ms (started: 2022-05-09 17:48:13 +01:00)\n"
     ]
    }
   ],
   "source": [
    "@numba.jit\n",
    "def dummy_op_numba(array):\n",
    "    n = len(array)\n",
    "    result = np.empty(n, dtype=\"float64\")\n",
    "    for i in range(n):\n",
    "        result[i] = math.log(array[i]+1)\n",
    "    return result"
   ]
  },
  {
   "cell_type": "code",
   "execution_count": 64,
   "id": "27a5746c-db70-4322-a254-e624e42a604f",
   "metadata": {},
   "outputs": [
    {
     "name": "stdout",
     "output_type": "stream",
     "text": [
      "time: 3.05 s (started: 2022-05-09 17:48:13 +01:00)\n"
     ]
    }
   ],
   "source": [
    "bar_numba = dummy_op_numba(df_copy['numbers'].to_numpy())"
   ]
  },
  {
   "cell_type": "code",
   "execution_count": 65,
   "id": "0f26081b-72a3-42a9-b014-347ff4adfdd0",
   "metadata": {},
   "outputs": [
    {
     "name": "stdout",
     "output_type": "stream",
     "text": [
      "time: 244 ms (started: 2022-05-09 17:48:16 +01:00)\n"
     ]
    }
   ],
   "source": [
    "assert all(pd.Series(bar_apply.to_numpy()) == pd.Series(bar_numpy.to_numpy()))\n",
    "assert all(pd.Series(bar_apply.to_numpy()) == pd.Series(bar_numba))"
   ]
  },
  {
   "cell_type": "markdown",
   "id": "fcf2aea0-be9c-4c20-81f1-1e609a0de409",
   "metadata": {},
   "source": [
    "## The right data type\n",
    "Also, often times vectorized operations are only available when using the right data type (eg `.str`, `.dt` etc)\n",
    "\n",
    "```\n",
    "pandas operations are optimized for data types, so most of the time you want to use data types and their related operations\n",
    "```\n",
    "a famous quote from Captain obvious\n",
    "\n",
    "which is almost always the right way...."
   ]
  },
  {
   "cell_type": "code",
   "execution_count": 66,
   "id": "0accbc7c-9ac3-4578-ab7b-1522f43a4120",
   "metadata": {},
   "outputs": [
    {
     "name": "stdout",
     "output_type": "stream",
     "text": [
      "time: 1.08 ms (started: 2022-05-09 17:48:17 +01:00)\n"
     ]
    }
   ],
   "source": [
    "dates = 100\n",
    "base = datetime.datetime.today()\n",
    "date_list = [(base - datetime.timedelta(days=x)).date().isoformat() for x in range(dates)]"
   ]
  },
  {
   "cell_type": "code",
   "execution_count": 67,
   "id": "a70720fd-ba48-4a8d-9c56-b71133696987",
   "metadata": {},
   "outputs": [
    {
     "data": {
      "text/plain": [
       "date    object\n",
       "dtype: object"
      ]
     },
     "execution_count": 67,
     "metadata": {},
     "output_type": "execute_result"
    },
    {
     "name": "stdout",
     "output_type": "stream",
     "text": [
      "time: 9.42 s (started: 2022-05-09 17:48:17 +01:00)\n"
     ]
    }
   ],
   "source": [
    "df = pd.DataFrame({\"date\":np.tile(date_list, int(20_000_000/50))})\n",
    "df.dtypes"
   ]
  },
  {
   "cell_type": "code",
   "execution_count": 68,
   "id": "c4524dc4-b404-45e1-9387-37e5618ab60f",
   "metadata": {},
   "outputs": [
    {
     "name": "stdout",
     "output_type": "stream",
     "text": [
      "time: 16.3 s (started: 2022-05-09 17:48:26 +01:00)\n"
     ]
    }
   ],
   "source": [
    "df['date_good_type'] = pd.to_datetime(df['date'])\n",
    "df['date_good_type_weekday'] = df['date_good_type'].dt.weekday"
   ]
  },
  {
   "cell_type": "code",
   "execution_count": 69,
   "id": "de5c6a61-81d8-4f07-b8da-57b5cf7d01ac",
   "metadata": {},
   "outputs": [
    {
     "name": "stdout",
     "output_type": "stream",
     "text": [
      "time: 6.52 s (started: 2022-05-09 17:48:42 +01:00)\n"
     ]
    }
   ],
   "source": [
    "mapper = {date_val: date_val.weekday() for date_val in pd.to_datetime(date_list)}\n",
    "df['date_weekday'] = pd.Categorical(df['date']).map(mapper)"
   ]
  },
  {
   "cell_type": "code",
   "execution_count": 70,
   "id": "84334125-d31d-4240-a1a6-cd1d2cf68f46",
   "metadata": {},
   "outputs": [
    {
     "name": "stdout",
     "output_type": "stream",
     "text": [
      "time: 5.11 s (started: 2022-05-09 17:48:49 +01:00)\n"
     ]
    }
   ],
   "source": [
    "assert all(df['date_weekday']==df['date_good_type_weekday'])"
   ]
  },
  {
   "cell_type": "markdown",
   "id": "96c269ae-7d61-4429-9f99-29df0f1695b0",
   "metadata": {},
   "source": [
    "## Combining dataframes\n",
    "\n",
    "I assume you are all familiar on how to combine dataframes using `pd.concat`, `pd.merge` and `pd.join`. If not it should be easy to find comparisons of these methods.\n",
    "- https://pandas.pydata.org/docs/user_guide/merging.html\n",
    "- https://stackoverflow.com/questions/38256104/differences-between-merge-and-concat-in-pandas"
   ]
  },
  {
   "cell_type": "markdown",
   "id": "ecd75847-f7ef-40e6-a7c8-993c1213427d",
   "metadata": {},
   "source": [
    "Something more exotic is running SQL-like left-excluding, right-excluding, and anti-joins\n",
    "\n",
    "https://stackoverflow.com/questions/53645882/pandas-merging-101"
   ]
  },
  {
   "cell_type": "code",
   "execution_count": 71,
   "id": "415aaf68-86b6-4548-abab-ef270847da00",
   "metadata": {},
   "outputs": [
    {
     "name": "stdout",
     "output_type": "stream",
     "text": [
      "time: 2.47 ms (started: 2022-05-09 17:48:54 +01:00)\n"
     ]
    }
   ],
   "source": [
    "np.random.seed(17)\n",
    "left = pd.DataFrame({'key': ['A', 'B', 'C', 'D'], 'value': np.random.randn(4)})\n",
    "right = pd.DataFrame({'key': ['B', 'D', 'E', 'F'], 'value': np.random.randn(4)})"
   ]
  },
  {
   "cell_type": "code",
   "execution_count": 72,
   "id": "dab3c92e-3ba3-4e14-91d2-b87a50432620",
   "metadata": {},
   "outputs": [
    {
     "data": {
      "text/html": [
       "<div>\n",
       "<style scoped>\n",
       "    .dataframe tbody tr th:only-of-type {\n",
       "        vertical-align: middle;\n",
       "    }\n",
       "\n",
       "    .dataframe tbody tr th {\n",
       "        vertical-align: top;\n",
       "    }\n",
       "\n",
       "    .dataframe thead th {\n",
       "        text-align: right;\n",
       "    }\n",
       "</style>\n",
       "<table border=\"1\" class=\"dataframe\">\n",
       "  <thead>\n",
       "    <tr style=\"text-align: right;\">\n",
       "      <th></th>\n",
       "      <th>key</th>\n",
       "      <th>value</th>\n",
       "    </tr>\n",
       "  </thead>\n",
       "  <tbody>\n",
       "    <tr>\n",
       "      <th>0</th>\n",
       "      <td>A</td>\n",
       "      <td>0.276266</td>\n",
       "    </tr>\n",
       "    <tr>\n",
       "      <th>1</th>\n",
       "      <td>B</td>\n",
       "      <td>-1.854628</td>\n",
       "    </tr>\n",
       "    <tr>\n",
       "      <th>2</th>\n",
       "      <td>C</td>\n",
       "      <td>0.623901</td>\n",
       "    </tr>\n",
       "    <tr>\n",
       "      <th>3</th>\n",
       "      <td>D</td>\n",
       "      <td>1.145311</td>\n",
       "    </tr>\n",
       "  </tbody>\n",
       "</table>\n",
       "</div>"
      ],
      "text/plain": [
       "  key     value\n",
       "0   A  0.276266\n",
       "1   B -1.854628\n",
       "2   C  0.623901\n",
       "3   D  1.145311"
      ]
     },
     "execution_count": 72,
     "metadata": {},
     "output_type": "execute_result"
    },
    {
     "name": "stdout",
     "output_type": "stream",
     "text": [
      "time: 8.04 ms (started: 2022-05-09 17:48:54 +01:00)\n"
     ]
    }
   ],
   "source": [
    "left"
   ]
  },
  {
   "cell_type": "code",
   "execution_count": 73,
   "id": "5a5788b5-bf87-4599-8f0b-7237e2e1a6e5",
   "metadata": {},
   "outputs": [
    {
     "data": {
      "text/html": [
       "<div>\n",
       "<style scoped>\n",
       "    .dataframe tbody tr th:only-of-type {\n",
       "        vertical-align: middle;\n",
       "    }\n",
       "\n",
       "    .dataframe tbody tr th {\n",
       "        vertical-align: top;\n",
       "    }\n",
       "\n",
       "    .dataframe thead th {\n",
       "        text-align: right;\n",
       "    }\n",
       "</style>\n",
       "<table border=\"1\" class=\"dataframe\">\n",
       "  <thead>\n",
       "    <tr style=\"text-align: right;\">\n",
       "      <th></th>\n",
       "      <th>key</th>\n",
       "      <th>value</th>\n",
       "    </tr>\n",
       "  </thead>\n",
       "  <tbody>\n",
       "    <tr>\n",
       "      <th>0</th>\n",
       "      <td>B</td>\n",
       "      <td>1.037190</td>\n",
       "    </tr>\n",
       "    <tr>\n",
       "      <th>1</th>\n",
       "      <td>D</td>\n",
       "      <td>1.886639</td>\n",
       "    </tr>\n",
       "    <tr>\n",
       "      <th>2</th>\n",
       "      <td>E</td>\n",
       "      <td>-0.111698</td>\n",
       "    </tr>\n",
       "    <tr>\n",
       "      <th>3</th>\n",
       "      <td>F</td>\n",
       "      <td>-0.362101</td>\n",
       "    </tr>\n",
       "  </tbody>\n",
       "</table>\n",
       "</div>"
      ],
      "text/plain": [
       "  key     value\n",
       "0   B  1.037190\n",
       "1   D  1.886639\n",
       "2   E -0.111698\n",
       "3   F -0.362101"
      ]
     },
     "execution_count": 73,
     "metadata": {},
     "output_type": "execute_result"
    },
    {
     "name": "stdout",
     "output_type": "stream",
     "text": [
      "time: 8.76 ms (started: 2022-05-09 17:48:54 +01:00)\n"
     ]
    }
   ],
   "source": [
    "right"
   ]
  },
  {
   "cell_type": "code",
   "execution_count": 74,
   "id": "88734aac-56a2-4a99-97ab-0d8c9ede32b5",
   "metadata": {},
   "outputs": [
    {
     "name": "stderr",
     "output_type": "stream",
     "text": [
      "/home/ubuntu/pyenvs/sandbox/lib/python3.7/site-packages/ipykernel_launcher.py:1: FutureWarning: In a future version of pandas all arguments of DataFrame.drop except for the argument 'labels' will be keyword-only\n",
      "  \"\"\"Entry point for launching an IPython kernel.\n"
     ]
    },
    {
     "data": {
      "text/html": [
       "<div>\n",
       "<style scoped>\n",
       "    .dataframe tbody tr th:only-of-type {\n",
       "        vertical-align: middle;\n",
       "    }\n",
       "\n",
       "    .dataframe tbody tr th {\n",
       "        vertical-align: top;\n",
       "    }\n",
       "\n",
       "    .dataframe thead th {\n",
       "        text-align: right;\n",
       "    }\n",
       "</style>\n",
       "<table border=\"1\" class=\"dataframe\">\n",
       "  <thead>\n",
       "    <tr style=\"text-align: right;\">\n",
       "      <th></th>\n",
       "      <th>key</th>\n",
       "      <th>value_x</th>\n",
       "      <th>value_y</th>\n",
       "    </tr>\n",
       "  </thead>\n",
       "  <tbody>\n",
       "    <tr>\n",
       "      <th>0</th>\n",
       "      <td>A</td>\n",
       "      <td>0.276266</td>\n",
       "      <td>NaN</td>\n",
       "    </tr>\n",
       "    <tr>\n",
       "      <th>2</th>\n",
       "      <td>C</td>\n",
       "      <td>0.623901</td>\n",
       "      <td>NaN</td>\n",
       "    </tr>\n",
       "  </tbody>\n",
       "</table>\n",
       "</div>"
      ],
      "text/plain": [
       "  key   value_x  value_y\n",
       "0   A  0.276266      NaN\n",
       "2   C  0.623901      NaN"
      ]
     },
     "execution_count": 74,
     "metadata": {},
     "output_type": "execute_result"
    },
    {
     "name": "stdout",
     "output_type": "stream",
     "text": [
      "time: 43.4 ms (started: 2022-05-09 17:48:54 +01:00)\n"
     ]
    }
   ],
   "source": [
    "left.merge(right, on='key', how='left', indicator=True).query('_merge == \"left_only\"').drop('_merge', 1)"
   ]
  },
  {
   "cell_type": "code",
   "execution_count": 75,
   "id": "2c8267e0-367b-4ab5-8852-6b0c2e512ac3",
   "metadata": {},
   "outputs": [
    {
     "data": {
      "text/html": [
       "<div>\n",
       "<style scoped>\n",
       "    .dataframe tbody tr th:only-of-type {\n",
       "        vertical-align: middle;\n",
       "    }\n",
       "\n",
       "    .dataframe tbody tr th {\n",
       "        vertical-align: top;\n",
       "    }\n",
       "\n",
       "    .dataframe thead th {\n",
       "        text-align: right;\n",
       "    }\n",
       "</style>\n",
       "<table border=\"1\" class=\"dataframe\">\n",
       "  <thead>\n",
       "    <tr style=\"text-align: right;\">\n",
       "      <th></th>\n",
       "      <th>key</th>\n",
       "      <th>value_x</th>\n",
       "      <th>value_y</th>\n",
       "      <th>_merge</th>\n",
       "    </tr>\n",
       "  </thead>\n",
       "  <tbody>\n",
       "    <tr>\n",
       "      <th>0</th>\n",
       "      <td>A</td>\n",
       "      <td>0.276266</td>\n",
       "      <td>NaN</td>\n",
       "      <td>left_only</td>\n",
       "    </tr>\n",
       "    <tr>\n",
       "      <th>1</th>\n",
       "      <td>B</td>\n",
       "      <td>-1.854628</td>\n",
       "      <td>1.037190</td>\n",
       "      <td>both</td>\n",
       "    </tr>\n",
       "    <tr>\n",
       "      <th>2</th>\n",
       "      <td>C</td>\n",
       "      <td>0.623901</td>\n",
       "      <td>NaN</td>\n",
       "      <td>left_only</td>\n",
       "    </tr>\n",
       "    <tr>\n",
       "      <th>3</th>\n",
       "      <td>D</td>\n",
       "      <td>1.145311</td>\n",
       "      <td>1.886639</td>\n",
       "      <td>both</td>\n",
       "    </tr>\n",
       "  </tbody>\n",
       "</table>\n",
       "</div>"
      ],
      "text/plain": [
       "  key   value_x   value_y     _merge\n",
       "0   A  0.276266       NaN  left_only\n",
       "1   B -1.854628  1.037190       both\n",
       "2   C  0.623901       NaN  left_only\n",
       "3   D  1.145311  1.886639       both"
      ]
     },
     "execution_count": 75,
     "metadata": {},
     "output_type": "execute_result"
    },
    {
     "name": "stdout",
     "output_type": "stream",
     "text": [
      "time: 28.3 ms (started: 2022-05-09 17:48:54 +01:00)\n"
     ]
    }
   ],
   "source": [
    "left.merge(right, on='key', how='left', indicator=True)"
   ]
  },
  {
   "cell_type": "code",
   "execution_count": 76,
   "id": "5dc5b0e8-2f56-474c-a716-bd7ad8ad60a2",
   "metadata": {},
   "outputs": [
    {
     "name": "stderr",
     "output_type": "stream",
     "text": [
      "/home/ubuntu/pyenvs/sandbox/lib/python3.7/site-packages/ipykernel_launcher.py:1: FutureWarning: In a future version of pandas all arguments of DataFrame.drop except for the argument 'labels' will be keyword-only\n",
      "  \"\"\"Entry point for launching an IPython kernel.\n"
     ]
    },
    {
     "data": {
      "text/html": [
       "<div>\n",
       "<style scoped>\n",
       "    .dataframe tbody tr th:only-of-type {\n",
       "        vertical-align: middle;\n",
       "    }\n",
       "\n",
       "    .dataframe tbody tr th {\n",
       "        vertical-align: top;\n",
       "    }\n",
       "\n",
       "    .dataframe thead th {\n",
       "        text-align: right;\n",
       "    }\n",
       "</style>\n",
       "<table border=\"1\" class=\"dataframe\">\n",
       "  <thead>\n",
       "    <tr style=\"text-align: right;\">\n",
       "      <th></th>\n",
       "      <th>key</th>\n",
       "      <th>value_x</th>\n",
       "      <th>value_y</th>\n",
       "    </tr>\n",
       "  </thead>\n",
       "  <tbody>\n",
       "    <tr>\n",
       "      <th>2</th>\n",
       "      <td>E</td>\n",
       "      <td>NaN</td>\n",
       "      <td>-0.111698</td>\n",
       "    </tr>\n",
       "    <tr>\n",
       "      <th>3</th>\n",
       "      <td>F</td>\n",
       "      <td>NaN</td>\n",
       "      <td>-0.362101</td>\n",
       "    </tr>\n",
       "  </tbody>\n",
       "</table>\n",
       "</div>"
      ],
      "text/plain": [
       "  key  value_x   value_y\n",
       "2   E      NaN -0.111698\n",
       "3   F      NaN -0.362101"
      ]
     },
     "execution_count": 76,
     "metadata": {},
     "output_type": "execute_result"
    },
    {
     "name": "stdout",
     "output_type": "stream",
     "text": [
      "time: 37.2 ms (started: 2022-05-09 17:48:54 +01:00)\n"
     ]
    }
   ],
   "source": [
    "left.merge(right, on='key', how='right', indicator=True).query('_merge == \"right_only\"').drop(\"_merge\", 1)"
   ]
  },
  {
   "cell_type": "code",
   "execution_count": 77,
   "id": "acc504ac-830d-4648-881c-8d69d1883c08",
   "metadata": {},
   "outputs": [
    {
     "name": "stderr",
     "output_type": "stream",
     "text": [
      "/home/ubuntu/pyenvs/sandbox/lib/python3.7/site-packages/ipykernel_launcher.py:1: FutureWarning: In a future version of pandas all arguments of DataFrame.drop except for the argument 'labels' will be keyword-only\n",
      "  \"\"\"Entry point for launching an IPython kernel.\n"
     ]
    },
    {
     "data": {
      "text/html": [
       "<div>\n",
       "<style scoped>\n",
       "    .dataframe tbody tr th:only-of-type {\n",
       "        vertical-align: middle;\n",
       "    }\n",
       "\n",
       "    .dataframe tbody tr th {\n",
       "        vertical-align: top;\n",
       "    }\n",
       "\n",
       "    .dataframe thead th {\n",
       "        text-align: right;\n",
       "    }\n",
       "</style>\n",
       "<table border=\"1\" class=\"dataframe\">\n",
       "  <thead>\n",
       "    <tr style=\"text-align: right;\">\n",
       "      <th></th>\n",
       "      <th>key</th>\n",
       "      <th>value_x</th>\n",
       "      <th>value_y</th>\n",
       "    </tr>\n",
       "  </thead>\n",
       "  <tbody>\n",
       "    <tr>\n",
       "      <th>0</th>\n",
       "      <td>A</td>\n",
       "      <td>0.276266</td>\n",
       "      <td>NaN</td>\n",
       "    </tr>\n",
       "    <tr>\n",
       "      <th>2</th>\n",
       "      <td>C</td>\n",
       "      <td>0.623901</td>\n",
       "      <td>NaN</td>\n",
       "    </tr>\n",
       "    <tr>\n",
       "      <th>4</th>\n",
       "      <td>E</td>\n",
       "      <td>NaN</td>\n",
       "      <td>-0.111698</td>\n",
       "    </tr>\n",
       "    <tr>\n",
       "      <th>5</th>\n",
       "      <td>F</td>\n",
       "      <td>NaN</td>\n",
       "      <td>-0.362101</td>\n",
       "    </tr>\n",
       "  </tbody>\n",
       "</table>\n",
       "</div>"
      ],
      "text/plain": [
       "  key   value_x   value_y\n",
       "0   A  0.276266       NaN\n",
       "2   C  0.623901       NaN\n",
       "4   E       NaN -0.111698\n",
       "5   F       NaN -0.362101"
      ]
     },
     "execution_count": 77,
     "metadata": {},
     "output_type": "execute_result"
    },
    {
     "name": "stdout",
     "output_type": "stream",
     "text": [
      "time: 48.6 ms (started: 2022-05-09 17:48:54 +01:00)\n"
     ]
    }
   ],
   "source": [
    "left.merge(right, on='key', how='outer', indicator=True).query('_merge != \"both\"').drop(\"_merge\", 1)"
   ]
  },
  {
   "cell_type": "markdown",
   "id": "7c98c802-f8d5-4c1a-8fde-d8eec9544185",
   "metadata": {},
   "source": [
    "# Misc  <a class=\"anchor\" id=\"misc\"></a>"
   ]
  },
  {
   "cell_type": "markdown",
   "id": "a1403b9a",
   "metadata": {},
   "source": [
    "## Consider whether you want to use first"
   ]
  },
  {
   "cell_type": "code",
   "execution_count": 78,
   "id": "331a9414",
   "metadata": {},
   "outputs": [
    {
     "name": "stdout",
     "output_type": "stream",
     "text": [
      "time: 1.27 s (started: 2022-05-09 17:48:54 +01:00)\n"
     ]
    }
   ],
   "source": [
    "df = pd.DataFrame({'id' : [1,1,1,2,2,3,3,3,3,4,4],\n",
    "            'value'  : [\"first\",\"second\",\"third\", np.NaN,\n",
    "                        \"second\",\"first\",\"second\",\"third\",\n",
    "                        \"fourth\",\"first\",\"second\"]})\n"
   ]
  },
  {
   "cell_type": "code",
   "execution_count": 79,
   "id": "4616f4bf",
   "metadata": {},
   "outputs": [
    {
     "data": {
      "text/html": [
       "<div>\n",
       "<style scoped>\n",
       "    .dataframe tbody tr th:only-of-type {\n",
       "        vertical-align: middle;\n",
       "    }\n",
       "\n",
       "    .dataframe tbody tr th {\n",
       "        vertical-align: top;\n",
       "    }\n",
       "\n",
       "    .dataframe thead th {\n",
       "        text-align: right;\n",
       "    }\n",
       "</style>\n",
       "<table border=\"1\" class=\"dataframe\">\n",
       "  <thead>\n",
       "    <tr style=\"text-align: right;\">\n",
       "      <th></th>\n",
       "      <th>value</th>\n",
       "    </tr>\n",
       "    <tr>\n",
       "      <th>id</th>\n",
       "      <th></th>\n",
       "    </tr>\n",
       "  </thead>\n",
       "  <tbody>\n",
       "    <tr>\n",
       "      <th>1</th>\n",
       "      <td>first</td>\n",
       "    </tr>\n",
       "    <tr>\n",
       "      <th>2</th>\n",
       "      <td>NaN</td>\n",
       "    </tr>\n",
       "    <tr>\n",
       "      <th>3</th>\n",
       "      <td>first</td>\n",
       "    </tr>\n",
       "    <tr>\n",
       "      <th>4</th>\n",
       "      <td>first</td>\n",
       "    </tr>\n",
       "  </tbody>\n",
       "</table>\n",
       "</div>"
      ],
      "text/plain": [
       "    value\n",
       "id       \n",
       "1   first\n",
       "2     NaN\n",
       "3   first\n",
       "4   first"
      ]
     },
     "execution_count": 79,
     "metadata": {},
     "output_type": "execute_result"
    },
    {
     "name": "stdout",
     "output_type": "stream",
     "text": [
      "time: 13.1 ms (started: 2022-05-09 17:48:56 +01:00)\n"
     ]
    }
   ],
   "source": [
    " df.groupby('id').nth(0)"
   ]
  },
  {
   "cell_type": "code",
   "execution_count": 80,
   "id": "49b9de19",
   "metadata": {},
   "outputs": [
    {
     "data": {
      "text/html": [
       "<div>\n",
       "<style scoped>\n",
       "    .dataframe tbody tr th:only-of-type {\n",
       "        vertical-align: middle;\n",
       "    }\n",
       "\n",
       "    .dataframe tbody tr th {\n",
       "        vertical-align: top;\n",
       "    }\n",
       "\n",
       "    .dataframe thead th {\n",
       "        text-align: right;\n",
       "    }\n",
       "</style>\n",
       "<table border=\"1\" class=\"dataframe\">\n",
       "  <thead>\n",
       "    <tr style=\"text-align: right;\">\n",
       "      <th></th>\n",
       "      <th>value</th>\n",
       "    </tr>\n",
       "    <tr>\n",
       "      <th>id</th>\n",
       "      <th></th>\n",
       "    </tr>\n",
       "  </thead>\n",
       "  <tbody>\n",
       "    <tr>\n",
       "      <th>1</th>\n",
       "      <td>first</td>\n",
       "    </tr>\n",
       "    <tr>\n",
       "      <th>2</th>\n",
       "      <td>second</td>\n",
       "    </tr>\n",
       "    <tr>\n",
       "      <th>3</th>\n",
       "      <td>first</td>\n",
       "    </tr>\n",
       "    <tr>\n",
       "      <th>4</th>\n",
       "      <td>first</td>\n",
       "    </tr>\n",
       "  </tbody>\n",
       "</table>\n",
       "</div>"
      ],
      "text/plain": [
       "     value\n",
       "id        \n",
       "1    first\n",
       "2   second\n",
       "3    first\n",
       "4    first"
      ]
     },
     "execution_count": 80,
     "metadata": {},
     "output_type": "execute_result"
    },
    {
     "name": "stdout",
     "output_type": "stream",
     "text": [
      "time: 13.6 ms (started: 2022-05-09 17:48:56 +01:00)\n"
     ]
    }
   ],
   "source": [
    " df.groupby('id').first()"
   ]
  },
  {
   "cell_type": "markdown",
   "id": "5be98d60",
   "metadata": {},
   "source": [
    "## Do not use inplace=True\n",
    "\n",
    "it is not necessarily more performant, and it does not necessairly make you save memory (it may still need to create a copy of the dataframe)\n",
    "\n",
    "```\n",
    "There is no guarantee that an inplace operation is actually faster. Often they are actually the same operation that works on a copy, but the top-level reference is reassigned.\n",
    "\n",
    "[...]\n",
    "\n",
    "My personal opinion: I never use in-place operations. The syntax is harder to read and it does not offer any advantages.\n",
    "```\n",
    "[Jeff Reback (pandas core developer)](https://pandas.pydata.org/about/team.html)\n",
    "\n",
    "https://stackoverflow.com/questions/22532302/pandas-peculiar-performance-drop-for-inplace-rename-after-dropna/22533110#22533110"
   ]
  },
  {
   "cell_type": "markdown",
   "id": "d24088ac-97f5-4001-92a4-928d0fa429ac",
   "metadata": {},
   "source": [
    "Also, it will be deprecated with pandas 2.0\n",
    "\n",
    "https://github.com/pandas-dev/pandas/issues/16529"
   ]
  },
  {
   "cell_type": "markdown",
   "id": "7fb27c99-e7b8-4d4b-91fe-352cc3af2a33",
   "metadata": {},
   "source": [
    "## Other very useful methods"
   ]
  },
  {
   "cell_type": "markdown",
   "id": "6bfa3c5c-0fd7-4bf1-88a0-3e7864164c7d",
   "metadata": {},
   "source": [
    "- `shift` (and `ffill`) often this is a very handy method for coming up with a vectorized way of doing something which naturally feels like requiring iterations. eg detect step changes in a time series, rather than iterating and checking the current value vs the previou one you can shift forward by whatever number of steps necessary and then compare values on the same row\n",
    "- `stack`/`melt` and `unstack` turns wide data too long and viceversa\n",
    "- It may be worth skimming the API page, in case you haven't done it yet https://pandas.pydata.org/docs/reference/frame.html"
   ]
  }
 ],
 "metadata": {
  "kernelspec": {
   "display_name": "sandbox",
   "language": "python",
   "name": "sandbox"
  },
  "language_info": {
   "codemirror_mode": {
    "name": "ipython",
    "version": 3
   },
   "file_extension": ".py",
   "mimetype": "text/x-python",
   "name": "python",
   "nbconvert_exporter": "python",
   "pygments_lexer": "ipython3",
   "version": "3.7.12"
  }
 },
 "nbformat": 4,
 "nbformat_minor": 5
}
